{
  "cells": [
    {
      "cell_type": "markdown",
      "metadata": {
        "id": "EzztbdQ_7QVn"
      },
      "source": [
        "# Exercícios em Python 5: Biblioteca padrão python, arquivos, http, json\n",
        "\n",
        "\n"
      ]
    },
    {
      "cell_type": "markdown",
      "metadata": {
        "id": "u7BDz8O1qaMd"
      },
      "source": [
        "## Preparando o ambiente\n",
        "\n",
        "Este notebook usa códigos no pacote ceai_python_aula04.py.\n",
        "Verifique se o seu google drive contém a pasta cursoai_python_aula_04.\n",
        "\n",
        "Em seguida execute o código a seguir."
      ]
    },
    {
      "cell_type": "code",
      "execution_count": 1,
      "metadata": {
        "id": "wo0Ow_IdVgtZ",
        "colab": {
          "base_uri": "https://localhost:8080/"
        },
        "outputId": "3c77f7bc-51ab-411e-fe46-1315e2820cb6"
      },
      "outputs": [
        {
          "output_type": "stream",
          "name": "stdout",
          "text": [
            "Cloning into 'curso_ai_python'...\n",
            "remote: Enumerating objects: 92, done.\u001b[K\n",
            "remote: Counting objects: 100% (59/59), done.\u001b[K\n",
            "remote: Compressing objects: 100% (58/58), done.\u001b[K\n",
            "remote: Total 92 (delta 29), reused 0 (delta 0), pack-reused 33 (from 1)\u001b[K\n",
            "Receiving objects: 100% (92/92), 28.45 KiB | 251.00 KiB/s, done.\n",
            "Resolving deltas: 100% (45/45), done.\n"
          ]
        }
      ],
      "source": [
        "!git clone https://gitlab.uspdigital.usp.br/thiago/curso_ai_python.git\n",
        "import sys\n",
        "sys.path.append('curso_ai_python')"
      ]
    },
    {
      "cell_type": "markdown",
      "metadata": {
        "id": "Rou0RcBHC-Z3"
      },
      "source": [
        "Se o bloco acima foi executado corretamente, importe os símbolos com a linha seguinte:"
      ]
    },
    {
      "cell_type": "code",
      "execution_count": 2,
      "metadata": {
        "id": "r9Q1G0SXu-Ir",
        "colab": {
          "base_uri": "https://localhost:8080/"
        },
        "outputId": "357583b8-5e1b-4dbd-d2a1-19703e03a57c"
      },
      "outputs": [
        {
          "output_type": "stream",
          "name": "stdout",
          "text": [
            "Ambiente inicializado com sucesso\n"
          ]
        }
      ],
      "source": [
        "import ceai_python_aula07"
      ]
    },
    {
      "cell_type": "markdown",
      "metadata": {
        "id": "bdTCDbolwdYj"
      },
      "source": [
        "## 5.1  Arquivos\n",
        "\n",
        "A linguagem Python tem uma biblioteca de arquivos.\n",
        "\n",
        "Arquivos são abertos com a função ```open```.\n",
        "\n",
        "O código abaixo cria um arquivo ```teste.txt``` dentro do diretório ```content```, que é o diretório padrão do colab."
      ]
    },
    {
      "cell_type": "code",
      "execution_count": 3,
      "metadata": {
        "id": "VBQEHIv0wtR2"
      },
      "outputs": [],
      "source": [
        "arquivo = open(\"teste.txt\", \"tw\")\n",
        "arquivo.close()"
      ]
    },
    {
      "cell_type": "markdown",
      "metadata": {
        "id": "v6zPjtNNxVj0"
      },
      "source": [
        "Verifique na aba de arquivos que existe o arquivo teste.txt.\n",
        "\n",
        "a função ```open``` retorna um objeto de arquivo.\n",
        "\n",
        "Escreve-se em arquivos com o método ```write```.\n",
        "\n",
        "Por exemplo, o código abaixo escreve ```Isso é um teste``` no arquivo ```teste.txt```:"
      ]
    },
    {
      "cell_type": "code",
      "execution_count": 4,
      "metadata": {
        "id": "rXBGURSgxxlL"
      },
      "outputs": [],
      "source": [
        "arquivo = open(\"teste.txt\", \"tw\")\n",
        "arquivo.write(\"Isso é um teste\")\n",
        "arquivo.close()"
      ]
    },
    {
      "cell_type": "markdown",
      "metadata": {
        "id": "iA6tm_v5x685"
      },
      "source": [
        "Verifique o conteúdo do arquivo.\n",
        "\n",
        "O arquivo aberto com o modo \"tw\" é um arquivo aberto em modo texto para escrita truncada, ou seja, o conteúdo original do arquivo é *destruído*.\n",
        "\n",
        "Um arquivo pode ser lido com as funções ```read```, que retorna todo o conteúdo do arquivo, a função ```readline()``` que lê uma única linha do arquivo e a função ```readlines``` que lê *todas* as linhas de um arquivo.\n",
        "\n",
        "Por exemplo, o código a seguir lê a primeira linha do arquivo criado anteriormente."
      ]
    },
    {
      "cell_type": "code",
      "execution_count": 5,
      "metadata": {
        "id": "LK6RFjM90J-b",
        "colab": {
          "base_uri": "https://localhost:8080/"
        },
        "outputId": "b4ef2a96-0f6c-4633-ac87-b39628df072d"
      },
      "outputs": [
        {
          "output_type": "stream",
          "name": "stdout",
          "text": [
            "Isso é um teste\n"
          ]
        }
      ],
      "source": [
        "arquivo = open(\"teste.txt\", \"tr\")\n",
        "print(arquivo.readline())\n",
        "arquivo.close()"
      ]
    },
    {
      "cell_type": "markdown",
      "metadata": {
        "id": "pEH3Wz4p1cTT"
      },
      "source": [
        "### Exercício 5.1.1\n",
        "\n",
        "Leia todas as linhas do arquivo ```/content/curso_ai_python/dados/dados01.txt``` e coloque-as em uma sequência na variável ```linhas```"
      ]
    },
    {
      "cell_type": "code",
      "execution_count": 6,
      "metadata": {
        "id": "xOZTUoIk17wF",
        "colab": {
          "base_uri": "https://localhost:8080/"
        },
        "outputId": "e1dd8688-c038-4eb5-85db-a0ebd2ecee4f"
      },
      "outputs": [
        {
          "output_type": "stream",
          "name": "stdout",
          "text": [
            "['10\\n', '9\\n', '8\\n', '7\\n', '6\\n', '5\\n', '4\\n', '3\\n', '2\\n', '1']\n"
          ]
        }
      ],
      "source": [
        "with open(\"/content/curso_ai_python/dados/dados01.txt\", \"r\") as arquivo:\n",
        "    linhas = arquivo.readlines()\n",
        "\n",
        "print(linhas)"
      ]
    },
    {
      "cell_type": "markdown",
      "metadata": {
        "id": "tHMiSK4Z18Pt"
      },
      "source": [
        "Teste sua resposta:"
      ]
    },
    {
      "cell_type": "code",
      "execution_count": 7,
      "metadata": {
        "id": "RZe6XY_M19zr",
        "colab": {
          "base_uri": "https://localhost:8080/",
          "height": 40
        },
        "outputId": "6f93f385-a5ca-46bd-917d-03fa88663da2"
      },
      "outputs": [
        {
          "output_type": "execute_result",
          "data": {
            "text/plain": [
              "<ceai_python_aula07.SolucaoResultado at 0x7fb1c9c2a850>"
            ],
            "text/html": [
              "<div style=\"border-style:solid;border-color:green\">Exercício Correto!</div>"
            ]
          },
          "metadata": {},
          "execution_count": 7
        }
      ],
      "source": [
        "ceai_python_aula07.valida_ex_05_01_01(linhas)"
      ]
    },
    {
      "cell_type": "markdown",
      "metadata": {
        "id": "aOYvkNYM4naH"
      },
      "source": [
        "### Exercício 5.1.2\n",
        "\n",
        "Escreva código em Python que procura no arquivo ```/curso_ai_python/dados/dados02.txt``` uma linha iniciada por ```parametro_01```...\n",
        "Atribua à variável ```linha``` o conteúdo desta linha.\n",
        "\n",
        "*Sugestão*: O método ```.startswith(valor)``` retorna ```True``` se a string sobre a qual é chamado inicia-se com ```valor```."
      ]
    },
    {
      "cell_type": "code",
      "execution_count": 21,
      "metadata": {
        "id": "GtZVcgrc4mkK",
        "colab": {
          "base_uri": "https://localhost:8080/"
        },
        "outputId": "0d015204-1664-41c8-fd1e-da5b6d166b11"
      },
      "outputs": [
        {
          "output_type": "stream",
          "name": "stdout",
          "text": [
            "O valor do parâmetro_01 é: 2\n"
          ]
        }
      ],
      "source": [
        "linha = None\n",
        "\n",
        "try:\n",
        "    with open(\"/content/curso_ai_python/dados/dados02.txt\", \"r\") as arquivo:\n",
        "        for line in arquivo:\n",
        "            if line.startswith(\"parametro_01\"):\n",
        "                linha_completa = line.strip()\n",
        "                partes = linha_completa.split(\"=\")\n",
        "                if len(partes) > 1:\n",
        "                    linha = partes[1].strip() # Pega a parte depois do '=', removendo espaços\n",
        "                break\n",
        "except FileNotFoundError:\n",
        "    print(\"Arquivo não encontrado: /content/curso_ai_python/dados/dados02.txt\")\n",
        "\n",
        "print(f\"O valor do parâmetro_01 é: {linha}\")"
      ]
    },
    {
      "cell_type": "markdown",
      "metadata": {
        "id": "GYY3zawx5Dwh"
      },
      "source": [
        "Teste sua resposta:"
      ]
    },
    {
      "cell_type": "code",
      "execution_count": 22,
      "metadata": {
        "id": "W5vSzRR74m5K",
        "colab": {
          "base_uri": "https://localhost:8080/",
          "height": 58
        },
        "outputId": "e6efaafc-560d-4474-b11b-27d2a2d37714"
      },
      "outputs": [
        {
          "output_type": "execute_result",
          "data": {
            "text/plain": [
              "<ceai_python_aula07.SolucaoResultado at 0x7fb1b06bcb90>"
            ],
            "text/html": [
              "<div style=\"border-style:solid;border-color:red\">Exercício Incorreto!<br/>Conteúdo errado, você passou 2</div>"
            ]
          },
          "metadata": {},
          "execution_count": 22
        }
      ],
      "source": [
        "ceai_python_aula07.valida_ex_05_01_02(linha)"
      ]
    },
    {
      "cell_type": "markdown",
      "metadata": {
        "id": "sOdbhxzK57h6"
      },
      "source": [
        "### Exercício 5.1.3\n",
        "\n",
        "Crie o arquivo ```resultado.txt``` dentro do diretório ```content``` (que é o diretório padrão).\n",
        "\n",
        "Este arquivo deve conter os valores dos quadrados dos 10 primeiros inteiros positivos (começando por 1).\n",
        "\n",
        "*Sugestão*:\n",
        "Para delimitar uma linha em um arquivo, chame o método ```write``` passando a string ```'\\n'```.\n"
      ]
    },
    {
      "cell_type": "code",
      "execution_count": 23,
      "metadata": {
        "id": "rvbNTUYf6iE7",
        "colab": {
          "base_uri": "https://localhost:8080/"
        },
        "outputId": "4ce94210-c28b-40d6-d09e-03da6d050e1e"
      },
      "outputs": [
        {
          "output_type": "stream",
          "name": "stdout",
          "text": [
            "Arquivo resultado.txt criado com sucesso em /content/\n"
          ]
        }
      ],
      "source": [
        "try:\n",
        "    with open(\"/content/resultado.txt\", \"w\") as arquivo:\n",
        "        for i in range(1, 11):\n",
        "            quadrado = i ** 2\n",
        "            arquivo.write(str(quadrado) + '\\n')\n",
        "    print(\"Arquivo resultado.txt criado com sucesso em /content/\")\n",
        "except Exception as e:\n",
        "    print(f\"Ocorreu um erro ao criar o arquivo: {e}\")"
      ]
    },
    {
      "cell_type": "markdown",
      "metadata": {
        "id": "UE09_Kxb6i-h"
      },
      "source": [
        "Teste a sua resposta"
      ]
    },
    {
      "cell_type": "code",
      "execution_count": 24,
      "metadata": {
        "id": "DI-hOzxP6lVt",
        "colab": {
          "base_uri": "https://localhost:8080/",
          "height": 40
        },
        "outputId": "ff17510b-1a66-46f3-fc1b-2757432a6bee"
      },
      "outputs": [
        {
          "output_type": "execute_result",
          "data": {
            "text/plain": [
              "<ceai_python_aula07.SolucaoResultado at 0x7fb1b06d0610>"
            ],
            "text/html": [
              "<div style=\"border-style:solid;border-color:green\">Exercício Correto!</div>"
            ]
          },
          "metadata": {},
          "execution_count": 24
        }
      ],
      "source": [
        "ceai_python_aula07.valida_ex_05_01_03()"
      ]
    },
    {
      "cell_type": "markdown",
      "metadata": {
        "id": "THM5xJGDoz_A"
      },
      "source": [
        "## 5.2 Processando dados em JSON.\n",
        "\n",
        "O formato JSON (JavaScript Object Notation) tem tornado-se cada vez mais prevalente na internet para intercâmbio de objetos.\n",
        "\n",
        "Este é um formato que codifica objetos compostos em um formato similar ao da linguagem JavaScript.\n",
        "\n",
        "O Módulo ```json``` é capaz de codificar e decodificar tipos básicos em python bem como boa parte dos tipos agregados, como sequências, strings e dicionários.\n",
        "\n",
        "O exemplo a seguir mostra a codificação em JSON de tipos básicos e alguns agregados."
      ]
    },
    {
      "cell_type": "code",
      "execution_count": 25,
      "metadata": {
        "id": "rbgteJZbp_eI",
        "colab": {
          "base_uri": "https://localhost:8080/"
        },
        "outputId": "ae448c44-6827-4fe8-b24d-52ed381ec69c"
      },
      "outputs": [
        {
          "output_type": "stream",
          "name": "stdout",
          "text": [
            "1\n",
            "0.001\n",
            "\"teste\"\n",
            "[1, 2, 3]\n",
            "{\"chave 1\": 1}\n",
            "{\"1\": 1}\n",
            "[1, 2, 3]\n"
          ]
        }
      ],
      "source": [
        "import json\n",
        "\n",
        "print(json.dumps(1))\n",
        "print(json.dumps(0.001))\n",
        "print(json.dumps('teste'))\n",
        "print(json.dumps([1,2,3]))\n",
        "print(json.dumps({'chave 1': 1}))\n",
        "print(json.dumps({1: 1}))\n",
        "print(json.dumps((1,2,3)))"
      ]
    },
    {
      "cell_type": "markdown",
      "metadata": {
        "id": "SbTmdcI9ru2P"
      },
      "source": [
        "Observe como a sintaxe da codificação é virtualmente idêntica a da linguagem Python.\n",
        "Uma notória exceção é a codificação de tuplas, que são condificadas como sequências, e das chaves de dicionários, que são *sempre* convertidas para Strings.\n",
        "\n",
        "É possível também escrever diretamente em um arquivo com a função ```dump```:"
      ]
    },
    {
      "cell_type": "code",
      "execution_count": 26,
      "metadata": {
        "id": "VlQ2yVAowH4q",
        "colab": {
          "base_uri": "https://localhost:8080/"
        },
        "outputId": "219e4cd8-a35d-445d-bd68-1052a13b3974"
      },
      "outputs": [
        {
          "output_type": "stream",
          "name": "stdout",
          "text": [
            "[1, 2, 3, 4, 5]\n"
          ]
        }
      ],
      "source": [
        "with open(\"exemplo.json\", \"wt\") as arquivo:\n",
        "  json.dump([1,2,3,4,5], arquivo)\n",
        "with open(\"exemplo.json\", \"rt\") as arquivo:\n",
        "  linhas = arquivo.readlines()\n",
        "for linha in linhas:\n",
        "  print(linha)"
      ]
    },
    {
      "cell_type": "markdown",
      "metadata": {
        "id": "K2rAks24v6k0"
      },
      "source": [
        "### Exercício 5.2.1\n",
        "\n",
        "Escreva um arquivo com o nome ```resultado.json``` contendo um dicionário cujas chaves são números de 1 a 100 e os valores são os quadrados dos respectivos números."
      ]
    },
    {
      "cell_type": "code",
      "execution_count": 27,
      "metadata": {
        "id": "on7v781utbwf",
        "colab": {
          "base_uri": "https://localhost:8080/"
        },
        "outputId": "01d3b21a-6e9f-470b-bd5d-0ddeabd5d8fa"
      },
      "outputs": [
        {
          "output_type": "stream",
          "name": "stdout",
          "text": [
            "Arquivo resultado.json criado com sucesso em /content/\n"
          ]
        }
      ],
      "source": [
        "import json\n",
        "\n",
        "dados = {}\n",
        "for i in range(1, 101):\n",
        "    dados[str(i)] = i ** 2\n",
        "\n",
        "try:\n",
        "    with open(\"/content/resultado.json\", \"w\") as arquivo:\n",
        "        json.dump(dados, arquivo)\n",
        "    print(\"Arquivo resultado.json criado com sucesso em /content/\")\n",
        "except Exception as e:\n",
        "    print(f\"Ocorreu um erro ao criar o arquivo JSON: {e}\")"
      ]
    },
    {
      "cell_type": "markdown",
      "metadata": {
        "id": "ws9lZcGNtcOm"
      },
      "source": [
        "Verifique sua resposta:"
      ]
    },
    {
      "cell_type": "code",
      "execution_count": 28,
      "metadata": {
        "id": "254-qQ2gtdub",
        "colab": {
          "base_uri": "https://localhost:8080/",
          "height": 40
        },
        "outputId": "8b431c57-1a6a-4162-a64b-1a02e5b499a8"
      },
      "outputs": [
        {
          "output_type": "execute_result",
          "data": {
            "text/plain": [
              "<ceai_python_aula07.SolucaoResultado at 0x7fb1b06d3910>"
            ],
            "text/html": [
              "<div style=\"border-style:solid;border-color:green\">Exercício Correto!</div>"
            ]
          },
          "metadata": {},
          "execution_count": 28
        }
      ],
      "source": [
        "ceai_python_aula07.valida_ex_05_02_01()"
      ]
    },
    {
      "cell_type": "markdown",
      "metadata": {
        "id": "cfg4lYaWbAvq"
      },
      "source": [
        "## 5.3 Acessando recursos da rede com o pacote ```urllib```\n",
        "\n",
        "O pacote ```urllib``` é um pacote que permite acessar recursos na Internet por meio de suas urls.\n",
        "\n",
        "O resultado de uma solicitação http é um objeto do tipo ```HTTPRequest```. Este objeto é relativamente complexo, dada a versatilidade do protocolo http.\n",
        "\n",
        "Exemplo: O código abaixo recupera o endereço IP da máquina atual pela url [https://api6.ipify.org/](https://api6.ipify.org/).\n"
      ]
    },
    {
      "cell_type": "code",
      "execution_count": 29,
      "metadata": {
        "id": "XNK-tnIcgRNH",
        "colab": {
          "base_uri": "https://localhost:8080/"
        },
        "outputId": "c4a0111c-f30e-49a1-d85d-1e45c6c643a2"
      },
      "outputs": [
        {
          "output_type": "stream",
          "name": "stdout",
          "text": [
            "34.86.54.183\n"
          ]
        }
      ],
      "source": [
        "import urllib.request\n",
        "resposta = urllib.request.urlopen('https://api.ipify.org/')\n",
        "codificacao='UTF-8'\n",
        "for content_spec in resposta.headers['Content-Type'].split(';'):\n",
        "    if content_spec.startswith('charset'):\n",
        "      codificacao = content_spec.split('=')[1].lstrip()\n",
        "print(resposta.read().decode(codificacao))"
      ]
    },
    {
      "cell_type": "markdown",
      "metadata": {
        "id": "w6uaqgDuhG5H"
      },
      "source": [
        "### Exercício 5.3.1\n",
        "\n",
        "Crie uma função que recupera a temperatura em São Paulo.\n",
        "Use o serviço [http://open-meteo.com](http://open-meteo.com).\n",
        "\n",
        "A url para recuperar a temperatura é\n",
        "```\n",
        "https://api.open-meteo.com/v1/forecast?latitude=XXXX&longitude=YYYYY&current=temperature_2m\n",
        "```\n",
        "onde ```XXXX``` é a latitude do local e ```YYYY``` é a longitude.\n",
        "Note que as coordenadas de São Paulo são -23.5558 graus de Latitude (Negativos, ou seja, Sul) e -46.6396 graus de Longitude (Negativos, ou seja, Oeste).\n",
        "\n",
        "*Atenção!* O resultado desta busca é um JSON.\n",
        "Use a função ```json.loads(string)``` para converter uma string em um dicionário.\n",
        "\n",
        "O objeto resultante é um dicionário.\n",
        "A temperatura atual está dentro do objeto ```current```.\n",
        "Este objeto, por sua vez, também é um dicionário.\n",
        "O valor da temperatura atual, em graus Celsius, está sob a chave ```temperature_2m```.\n",
        "\n",
        "\n",
        "Você deve retornar este valor.\n"
      ]
    },
    {
      "cell_type": "code",
      "execution_count": 32,
      "metadata": {
        "id": "7sDfv9Iqlq6I",
        "colab": {
          "base_uri": "https://localhost:8080/"
        },
        "outputId": "945d69d6-e13b-4d5c-e893-0a521f28445e"
      },
      "outputs": [
        {
          "output_type": "stream",
          "name": "stdout",
          "text": [
            "21.4\n"
          ]
        }
      ],
      "source": [
        "import urllib.request\n",
        "import json\n",
        "\n",
        "def recupera_temperatura_online():\n",
        "    latitude = -23.5558\n",
        "    longitude = -46.6396\n",
        "    url = f'https://api.open-meteo.com/v1/forecast?latitude={latitude}&longitude={longitude}&current=temperature_2m'\n",
        "\n",
        "    try:\n",
        "        resposta = urllib.request.urlopen(url)\n",
        "        codificacao = 'UTF-8'\n",
        "        content_type = resposta.headers.get('Content-Type')\n",
        "        if content_type:\n",
        "            for content_spec in content_type.split(';'):\n",
        "                if content_spec.startswith('charset'):\n",
        "                    codificacao = content_spec.split('=')[1].lstrip()\n",
        "                    break\n",
        "        dados_str = resposta.read().decode(codificacao)\n",
        "        dados_json = json.loads(dados_str)\n",
        "        temperatura_atual = dados_json['current']['temperature_2m']\n",
        "        return temperatura_atual\n",
        "    except urllib.error.URLError as e:\n",
        "        return f\"Erro ao acessar a URL: {e}\"\n",
        "    except json.JSONDecodeError as e:\n",
        "        return f\"Erro ao decodificar a resposta JSON: {e}\"\n",
        "    except KeyError as e:\n",
        "        return f\"Erro ao acessar a chave no JSON: {e}\"\n",
        "\n",
        "if __name__ == \"__main__\":\n",
        "    temperatura = recupera_temperatura_online()\n",
        "    print(temperatura)\n",
        "\n"
      ]
    },
    {
      "cell_type": "markdown",
      "metadata": {
        "id": "bJNjkVt01lt_"
      },
      "source": [
        "Verifique sua resposta:\n",
        "\n"
      ]
    },
    {
      "cell_type": "code",
      "execution_count": 33,
      "metadata": {
        "id": "Srn5A6Q-1ndq",
        "colab": {
          "base_uri": "https://localhost:8080/",
          "height": 76
        },
        "outputId": "9fb0c031-f26c-411f-9107-101398fcc563"
      },
      "outputs": [
        {
          "output_type": "execute_result",
          "data": {
            "text/plain": [
              "<ceai_python_aula07.SolucaoResultado at 0x7fb1b06d20d0>"
            ],
            "text/html": [
              "<div style=\"border-style:solid;border-color:green\"><p>Exercício Correto!</p><p>Temperatura obtida: 21.4</p></div>"
            ]
          },
          "metadata": {},
          "execution_count": 33
        }
      ],
      "source": [
        "ceai_python_aula07.valida_ex_05_03_01(recupera_temperatura_online)"
      ]
    }
  ],
  "metadata": {
    "colab": {
      "provenance": []
    },
    "kernelspec": {
      "display_name": "Python 3",
      "name": "python3"
    }
  },
  "nbformat": 4,
  "nbformat_minor": 0
}