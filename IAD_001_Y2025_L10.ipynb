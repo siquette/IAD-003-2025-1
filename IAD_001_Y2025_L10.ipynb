{
  "cells": [
    {
      "cell_type": "markdown",
      "metadata": {
        "id": "view-in-github",
        "colab_type": "text"
      },
      "source": [
        "<a href=\"https://colab.research.google.com/github/siquette/IAD-003-2025-1/blob/main/IAD_001_Y2025_L10.ipynb\" target=\"_parent\"><img src=\"https://colab.research.google.com/assets/colab-badge.svg\" alt=\"Open In Colab\"/></a>"
      ]
    },
    {
      "cell_type": "markdown",
      "source": [
        "# <font face=\"Verdana\" size=6 color='#6495ED'> ANÁLISE ESTATÍSTICA DE DADOS\n",
        "<font face=\"Verdana\" size=3 color='#40E0D0'> Profa. Larissa Driemeier\n",
        "<center><img src='https://drive.google.com/uc?export=view&id=1nW_7p_LyFhbR0ipjSekPcAj6kDoyK73R' width=\"800\"></center>\n",
        "\n",
        "Este notebook faz parte da aula 09 do curso IAD-001."
      ],
      "metadata": {
        "id": "30cz5pj1lOO2"
      }
    },
    {
      "cell_type": "markdown",
      "metadata": {
        "id": "Pe-s4X3jyVMn"
      },
      "source": [
        "# Markov e Markov Oculto\n",
        "Na teoria das probabilidades, um modelo de Markov é um modelo estocástico usado para modelar sistemas que mudam aleatoriamente. Supõe-se que os estados futuros dependam apenas do estado atual, não dos eventos que ocorreram antes dele (ou seja, assume-se a propriedade Markov).\n",
        "\n",
        "A aplicação do Modelo de Markov oculto (Hidden Markov Models) inclui aprendizado por reforço e reconhecimento de padrões temporais, como fala, escrita, reconhecimento de gestos, marcação de parte do discurso, acompanhamento de partituras, descargas parciais e bioinformática.\n"
      ]
    },
    {
      "cell_type": "code",
      "execution_count": 1,
      "metadata": {
        "id": "iCsRxaZsqqJm"
      },
      "outputs": [],
      "source": [
        "import numpy as np\n",
        "import pandas as pd\n",
        "from random import seed\n",
        "from random import random\n",
        "import matplotlib.pyplot as plt\n",
        "%matplotlib inline"
      ]
    },
    {
      "cell_type": "markdown",
      "metadata": {
        "id": "O_anJAKiYcG3"
      },
      "source": [
        "## Modelo de Markov para gerar texto\n",
        "Reveja a teoria aplicada aqui em suas notas de aula, quando usamos uma parte do poema *E agora, José?*, de Carlos Drummond de Andrade.\n",
        "\n",
        "<center><img src='https://drive.google.com/uc?export=view&id=1o4eOPXwRSujVT2QDnWrVrDEB4SPgPLBy' width=\"400\"></center>\n"
      ]
    },
    {
      "cell_type": "code",
      "execution_count": 28,
      "metadata": {
        "id": "OhB5QbzOU0z4",
        "colab": {
          "base_uri": "https://localhost:8080/",
          "height": 142
        },
        "outputId": "68132b28-1f3d-454e-c162-f56ead2a31dd"
      },
      "outputs": [
        {
          "output_type": "display_data",
          "data": {
            "text/plain": [
              "<IPython.core.display.HTML object>"
            ],
            "text/html": [
              "\n",
              "     <input type=\"file\" id=\"files-f1f5ed45-8412-4662-a716-2f46a8d29a35\" name=\"files[]\" multiple disabled\n",
              "        style=\"border:none\" />\n",
              "     <output id=\"result-f1f5ed45-8412-4662-a716-2f46a8d29a35\">\n",
              "      Upload widget is only available when the cell has been executed in the\n",
              "      current browser session. Please rerun this cell to enable.\n",
              "      </output>\n",
              "      <script>// Copyright 2017 Google LLC\n",
              "//\n",
              "// Licensed under the Apache License, Version 2.0 (the \"License\");\n",
              "// you may not use this file except in compliance with the License.\n",
              "// You may obtain a copy of the License at\n",
              "//\n",
              "//      http://www.apache.org/licenses/LICENSE-2.0\n",
              "//\n",
              "// Unless required by applicable law or agreed to in writing, software\n",
              "// distributed under the License is distributed on an \"AS IS\" BASIS,\n",
              "// WITHOUT WARRANTIES OR CONDITIONS OF ANY KIND, either express or implied.\n",
              "// See the License for the specific language governing permissions and\n",
              "// limitations under the License.\n",
              "\n",
              "/**\n",
              " * @fileoverview Helpers for google.colab Python module.\n",
              " */\n",
              "(function(scope) {\n",
              "function span(text, styleAttributes = {}) {\n",
              "  const element = document.createElement('span');\n",
              "  element.textContent = text;\n",
              "  for (const key of Object.keys(styleAttributes)) {\n",
              "    element.style[key] = styleAttributes[key];\n",
              "  }\n",
              "  return element;\n",
              "}\n",
              "\n",
              "// Max number of bytes which will be uploaded at a time.\n",
              "const MAX_PAYLOAD_SIZE = 100 * 1024;\n",
              "\n",
              "function _uploadFiles(inputId, outputId) {\n",
              "  const steps = uploadFilesStep(inputId, outputId);\n",
              "  const outputElement = document.getElementById(outputId);\n",
              "  // Cache steps on the outputElement to make it available for the next call\n",
              "  // to uploadFilesContinue from Python.\n",
              "  outputElement.steps = steps;\n",
              "\n",
              "  return _uploadFilesContinue(outputId);\n",
              "}\n",
              "\n",
              "// This is roughly an async generator (not supported in the browser yet),\n",
              "// where there are multiple asynchronous steps and the Python side is going\n",
              "// to poll for completion of each step.\n",
              "// This uses a Promise to block the python side on completion of each step,\n",
              "// then passes the result of the previous step as the input to the next step.\n",
              "function _uploadFilesContinue(outputId) {\n",
              "  const outputElement = document.getElementById(outputId);\n",
              "  const steps = outputElement.steps;\n",
              "\n",
              "  const next = steps.next(outputElement.lastPromiseValue);\n",
              "  return Promise.resolve(next.value.promise).then((value) => {\n",
              "    // Cache the last promise value to make it available to the next\n",
              "    // step of the generator.\n",
              "    outputElement.lastPromiseValue = value;\n",
              "    return next.value.response;\n",
              "  });\n",
              "}\n",
              "\n",
              "/**\n",
              " * Generator function which is called between each async step of the upload\n",
              " * process.\n",
              " * @param {string} inputId Element ID of the input file picker element.\n",
              " * @param {string} outputId Element ID of the output display.\n",
              " * @return {!Iterable<!Object>} Iterable of next steps.\n",
              " */\n",
              "function* uploadFilesStep(inputId, outputId) {\n",
              "  const inputElement = document.getElementById(inputId);\n",
              "  inputElement.disabled = false;\n",
              "\n",
              "  const outputElement = document.getElementById(outputId);\n",
              "  outputElement.innerHTML = '';\n",
              "\n",
              "  const pickedPromise = new Promise((resolve) => {\n",
              "    inputElement.addEventListener('change', (e) => {\n",
              "      resolve(e.target.files);\n",
              "    });\n",
              "  });\n",
              "\n",
              "  const cancel = document.createElement('button');\n",
              "  inputElement.parentElement.appendChild(cancel);\n",
              "  cancel.textContent = 'Cancel upload';\n",
              "  const cancelPromise = new Promise((resolve) => {\n",
              "    cancel.onclick = () => {\n",
              "      resolve(null);\n",
              "    };\n",
              "  });\n",
              "\n",
              "  // Wait for the user to pick the files.\n",
              "  const files = yield {\n",
              "    promise: Promise.race([pickedPromise, cancelPromise]),\n",
              "    response: {\n",
              "      action: 'starting',\n",
              "    }\n",
              "  };\n",
              "\n",
              "  cancel.remove();\n",
              "\n",
              "  // Disable the input element since further picks are not allowed.\n",
              "  inputElement.disabled = true;\n",
              "\n",
              "  if (!files) {\n",
              "    return {\n",
              "      response: {\n",
              "        action: 'complete',\n",
              "      }\n",
              "    };\n",
              "  }\n",
              "\n",
              "  for (const file of files) {\n",
              "    const li = document.createElement('li');\n",
              "    li.append(span(file.name, {fontWeight: 'bold'}));\n",
              "    li.append(span(\n",
              "        `(${file.type || 'n/a'}) - ${file.size} bytes, ` +\n",
              "        `last modified: ${\n",
              "            file.lastModifiedDate ? file.lastModifiedDate.toLocaleDateString() :\n",
              "                                    'n/a'} - `));\n",
              "    const percent = span('0% done');\n",
              "    li.appendChild(percent);\n",
              "\n",
              "    outputElement.appendChild(li);\n",
              "\n",
              "    const fileDataPromise = new Promise((resolve) => {\n",
              "      const reader = new FileReader();\n",
              "      reader.onload = (e) => {\n",
              "        resolve(e.target.result);\n",
              "      };\n",
              "      reader.readAsArrayBuffer(file);\n",
              "    });\n",
              "    // Wait for the data to be ready.\n",
              "    let fileData = yield {\n",
              "      promise: fileDataPromise,\n",
              "      response: {\n",
              "        action: 'continue',\n",
              "      }\n",
              "    };\n",
              "\n",
              "    // Use a chunked sending to avoid message size limits. See b/62115660.\n",
              "    let position = 0;\n",
              "    do {\n",
              "      const length = Math.min(fileData.byteLength - position, MAX_PAYLOAD_SIZE);\n",
              "      const chunk = new Uint8Array(fileData, position, length);\n",
              "      position += length;\n",
              "\n",
              "      const base64 = btoa(String.fromCharCode.apply(null, chunk));\n",
              "      yield {\n",
              "        response: {\n",
              "          action: 'append',\n",
              "          file: file.name,\n",
              "          data: base64,\n",
              "        },\n",
              "      };\n",
              "\n",
              "      let percentDone = fileData.byteLength === 0 ?\n",
              "          100 :\n",
              "          Math.round((position / fileData.byteLength) * 100);\n",
              "      percent.textContent = `${percentDone}% done`;\n",
              "\n",
              "    } while (position < fileData.byteLength);\n",
              "  }\n",
              "\n",
              "  // All done.\n",
              "  yield {\n",
              "    response: {\n",
              "      action: 'complete',\n",
              "    }\n",
              "  };\n",
              "}\n",
              "\n",
              "scope.google = scope.google || {};\n",
              "scope.google.colab = scope.google.colab || {};\n",
              "scope.google.colab._files = {\n",
              "  _uploadFiles,\n",
              "  _uploadFilesContinue,\n",
              "};\n",
              "})(self);\n",
              "</script> "
            ]
          },
          "metadata": {}
        },
        {
          "output_type": "stream",
          "name": "stdout",
          "text": [
            "Saving IHaveADream_MartinLutherKingJr.txt to IHaveADream_MartinLutherKingJr.txt\n",
            "Saving OAstronautaDeMarmore_NenhumDeNos.txt to OAstronautaDeMarmore_NenhumDeNos.txt\n",
            "User uploaded file \"IHaveADream_MartinLutherKingJr.txt\" with length 9502 bytes\n",
            "User uploaded file \"OAstronautaDeMarmore_NenhumDeNos.txt\" with length 1256 bytes\n"
          ]
        }
      ],
      "source": [
        "from google.colab import files\n",
        "\n",
        "uploaded = files.upload()\n",
        "\n",
        "#Aqui você fará upload dos arquivos (disponíveis no Moodle):\n",
        "# IHaveADream_MartinLutherKingJr.txt\n",
        "#OAstronautaDeMarmore_NenhumDeNos.txt\n",
        "for fn in uploaded.keys():\n",
        "  print('User uploaded file \"{name}\" with length {length} bytes'.format(\n",
        "      name=fn, length=len(uploaded[fn])))"
      ]
    },
    {
      "cell_type": "code",
      "execution_count": 29,
      "metadata": {
        "id": "rgikGnvAVEGK",
        "colab": {
          "base_uri": "https://localhost:8080/"
        },
        "outputId": "0c35ede5-a869-4501-9b2f-668883faef99"
      },
      "outputs": [
        {
          "output_type": "stream",
          "name": "stdout",
          "text": [
            "A lua inteira agora é um manto negro, ô-ô\n",
            "O fim das vozes no meu rádio, ô-ô\n",
            "São quatro ciclos no escuro deserto do céu\n",
            "Quero um machado pra quebrar o gelo, ô-ô\n",
            "Quero acordar do sonho agora mesmo, ô-ô\n",
            "Quero uma chance de tentar viver sem dor\n",
            "Sempre estar lá, e ver ele voltar\n",
            "Não era mais o mesmo\n",
            "Mas estava em seu lugar\n",
            "Sempre estar lá, e ver ele voltar\n",
            "O tolo teme a noite\n",
            "Como a noite vai temer o fogo\n",
            "Vou chorar sem medo\n",
            "Vou lembrar do tempo\n",
            "De onde eu via o mundo azul\n",
            "A trajetória escapa o risco nu, uh-uh\n",
            "As nuvens queimam o céu, nariz azul, uh-uh\n",
            "Desculpe, estranho, eu voltei mais puro do céu\n",
            "A lua, o lado escuro, é sempre igual, al-al\n",
            "No espaço a solidão é tão normal, al-al\n",
            "Desculpe, estranho, eu voltei mais puro do céu\n",
            "Sempre estar lá, e ver ele voltar\n",
            "Não era mais o mesmo\n",
            "Mas estava em seu lugar\n",
            "Sempre estar lá, e ver ele voltar\n",
            "O tolo teme a noite\n",
            "Como a noite vai temer o fogo\n",
            "Vou chorar sem medo\n",
            "Vou lembrar do tempo\n",
            "De onde eu via o mundo azul\n",
            "Estar lá, e ver ele voltar\n",
            "Não era mais o mesmo\n",
            "Mas estava em seu lugar\n",
            "Sempre estar lá, e ver ele voltar\n",
            "O tolo teme a noite\n",
            "Como a noite vai temer o fogo\n",
            "Vou chorar sem medo\n",
            "Vou lembrar do tempo\n",
            "De onde eu via o mundo azul\n"
          ]
        }
      ],
      "source": [
        "discurso = open('/content/OAstronautaDeMarmore_NenhumDeNos.txt', encoding='utf8').read()\n",
        "#display the data\n",
        "print(discurso)"
      ]
    },
    {
      "cell_type": "code",
      "execution_count": 30,
      "metadata": {
        "id": "xI_MurqePXyr",
        "colab": {
          "base_uri": "https://localhost:8080/"
        },
        "outputId": "709d6aa8-f522-44ab-d09d-ad003ff97596"
      },
      "outputs": [
        {
          "output_type": "stream",
          "name": "stdout",
          "text": [
            "['A', 'lua', 'inteira', 'agora', 'é', 'um', 'manto', 'negro,', 'ô-ô', 'O', 'fim', 'das', 'vozes', 'no', 'meu', 'rádio,', 'ô-ô', 'São', 'quatro', 'ciclos', 'no', 'escuro', 'deserto', 'do', 'céu', 'Quero', 'um', 'machado', 'pra', 'quebrar', 'o', 'gelo,', 'ô-ô', 'Quero', 'acordar', 'do', 'sonho', 'agora', 'mesmo,', 'ô-ô', 'Quero', 'uma', 'chance', 'de', 'tentar', 'viver', 'sem', 'dor', 'Sempre', 'estar', 'lá,', 'e', 'ver', 'ele', 'voltar', 'Não', 'era', 'mais', 'o', 'mesmo', 'Mas', 'estava', 'em', 'seu', 'lugar', 'Sempre', 'estar', 'lá,', 'e', 'ver', 'ele', 'voltar', 'O', 'tolo', 'teme', 'a', 'noite', 'Como', 'a', 'noite', 'vai', 'temer', 'o', 'fogo', 'Vou', 'chorar', 'sem', 'medo', 'Vou', 'lembrar', 'do', 'tempo', 'De', 'onde', 'eu', 'via', 'o', 'mundo', 'azul', 'A', 'trajetória', 'escapa', 'o', 'risco', 'nu,', 'uh-uh', 'As', 'nuvens', 'queimam', 'o', 'céu,', 'nariz', 'azul,', 'uh-uh', 'Desculpe,', 'estranho,', 'eu', 'voltei', 'mais', 'puro', 'do', 'céu', 'A', 'lua,', 'o', 'lado', 'escuro,', 'é', 'sempre', 'igual,', 'al-al', 'No', 'espaço', 'a', 'solidão', 'é', 'tão', 'normal,', 'al-al', 'Desculpe,', 'estranho,', 'eu', 'voltei', 'mais', 'puro', 'do', 'céu', 'Sempre', 'estar', 'lá,', 'e', 'ver', 'ele', 'voltar', 'Não', 'era', 'mais', 'o', 'mesmo', 'Mas', 'estava', 'em', 'seu', 'lugar', 'Sempre', 'estar', 'lá,', 'e', 'ver', 'ele', 'voltar', 'O', 'tolo', 'teme', 'a', 'noite', 'Como', 'a', 'noite', 'vai', 'temer', 'o', 'fogo', 'Vou', 'chorar', 'sem', 'medo', 'Vou', 'lembrar', 'do', 'tempo', 'De', 'onde', 'eu', 'via', 'o', 'mundo', 'azul', 'Estar', 'lá,', 'e', 'ver', 'ele', 'voltar', 'Não', 'era', 'mais', 'o', 'mesmo', 'Mas', 'estava', 'em', 'seu', 'lugar', 'Sempre', 'estar', 'lá,', 'e', 'ver', 'ele', 'voltar', 'O', 'tolo', 'teme', 'a', 'noite', 'Como', 'a', 'noite', 'vai', 'temer', 'o', 'fogo', 'Vou', 'chorar', 'sem', 'medo', 'Vou', 'lembrar', 'do', 'tempo', 'De', 'onde', 'eu', 'via', 'o', 'mundo', 'azul']\n"
          ]
        }
      ],
      "source": [
        "# 'Split' o discurso em um conjunto de palavras individuais\n",
        "palavras = discurso.split()\n",
        "print(palavras)"
      ]
    },
    {
      "cell_type": "code",
      "execution_count": 31,
      "metadata": {
        "id": "YptoP8QBV490"
      },
      "outputs": [],
      "source": [
        "#Criando pares de palavras chave e as palavras seguintes\n",
        "#Para economizar espaço, uses um objeto generator (vide aula do Thiago).\n",
        "def make_pairs(palavras):\n",
        "  for i in range(len(palavras) - 1):\n",
        "    yield (palavras[i], palavras[i + 1])\n",
        "pairs = make_pairs(palavras)"
      ]
    },
    {
      "cell_type": "code",
      "execution_count": 32,
      "metadata": {
        "id": "IDbY1rSjV5R2"
      },
      "outputs": [],
      "source": [
        "#Em seguida, vamos inicializar um dicionário vazio para armazenar os pares de palavras.\n",
        "palavra_dict = {}\n",
        "#Caso a primeira palavra do par (palavra chave) já seja uma chave no dicionário, basta anexar a próxima\n",
        "#palavra potencial à lista de palavras que seguem a palavra chave. Mas se a palavra não for uma chave,\n",
        "#crie uma nova entrada no dicionário e atribua a chave igual à primeira palavra do par.\n",
        "#Caso fique confuso, veja a teoria, quando usamos o poema \"E agora, José?\"\n",
        "for palavra_1, palavra_2 in pairs:\n",
        "  if palavra_1 in palavra_dict.keys():\n",
        "    palavra_dict[palavra_1].append(palavra_2)\n",
        "  else:\n",
        "    palavra_dict[palavra_1] = [palavra_2]"
      ]
    },
    {
      "cell_type": "code",
      "execution_count": 33,
      "metadata": {
        "id": "Pqs42nm_Z-T7",
        "colab": {
          "base_uri": "https://localhost:8080/"
        },
        "outputId": "03aff334-eb8f-40f6-db4c-d2b3122f24cf"
      },
      "outputs": [
        {
          "output_type": "stream",
          "name": "stdout",
          "text": [
            "[np.str_('Vou')]\n"
          ]
        }
      ],
      "source": [
        "# Modelo de Markov\n",
        "#Vamos pegar uma palavra aleatória para iniciar nosso texto\n",
        "#(deverá se iniciar com letra maiúscula para não pegarmos palavra no meio do texto)\n",
        "start_palavra = np.random.choice(palavras)\n",
        "while start_palavra.islower():\n",
        "  start_palavra = np.random.choice(palavras)\n",
        "chain = [start_palavra]\n",
        "print(chain)\n",
        "#Número total de palavras que terá nosso discurso\n",
        "n_palavras = 20\n",
        "for i in range(n_palavras):\n",
        "  chain.append(np.random.choice(palavra_dict[chain[-1]]))"
      ]
    },
    {
      "cell_type": "code",
      "execution_count": 34,
      "metadata": {
        "id": "YTXrc4ykZ-gR",
        "colab": {
          "base_uri": "https://localhost:8080/"
        },
        "outputId": "f8d2d3d5-d422-491d-d91c-d7eae88a0c06"
      },
      "outputs": [
        {
          "output_type": "stream",
          "name": "stdout",
          "text": [
            "Vou lembrar do tempo De onde eu voltei mais o risco nu, uh-uh Desculpe, estranho, eu voltei mais puro do tempo\n"
          ]
        }
      ],
      "source": [
        "#Finalmente, vamos exibir o texto  gerado\n",
        "# 'join' retorna a nossa cadeia de palavras 'chain' como uma string\n",
        "print(' '.join(chain))"
      ]
    },
    {
      "cell_type": "markdown",
      "metadata": {
        "id": "20RWlMQUeMpC"
      },
      "source": [
        "O texto pode não fazer muito sentido, mas serve para você entender, de maneira simples, como as cadeias de Markov podem ser usadas para gerar textos automaticamente.\n",
        "\n",
        "Agora, vamos ver mais algumas aplicações das cadeias de Markov e como elas são usadas para resolver problemas do mundo real.\n",
        "\n",
        "**Google PageRank**: toda a web pode ser vista como um modelo de Markov, onde cada página da web pode ser um estado e os links ou referências entre essas páginas podem ser vistos como transições com probabilidades. Então, basicamente, independentemente de qual página da Web você começa a navegar, a chance de chegar a uma determinada página X da Web é uma probabilidade fixa.\n",
        "\n",
        "**Previsão de digitação de palavras em telefones celulares**: Sabe-se que as cadeias de Markov são usadas para prever as próximas palavras ou preenchimento automático e sugestões. O aplicativo irá adivinhar qual é a sua próxima palavra mais provável com base nas combinações de palavras que você digitou antes (por exemplo, *dia* depois de *bom*\" ou *como vai* com base em *Oi*). Da mesma maneira, ao completar as palavras, o algoritmo se baseia nas palavras que você repete várias vezes e, quanto mais vezes já apareceu, maior a probabilidade de aparecer novamente.\n",
        "\n",
        "**Gerador de texto**: as cadeias de Markov são mais comumente usadas para gerar textos fictícios ou produzir grandes ensaios e compilar discursos. Também são usadas nos geradores de nome."
      ]
    },
    {
      "cell_type": "markdown",
      "metadata": {
        "id": "gkFvqGmSfh_r"
      },
      "source": [
        "### Para você aumentar seu conhecimento!\n",
        "\n",
        "O [link](https://towardsdatascience.com/using-a-markov-chain-sentence-generator-in-python-to-generate-real-fake-news-e9c904e967e) apresenta um gerador de Fake News. O programa está completo, e muito bem explicado. Pode ser que você precise procurar alguns comandos na internet para entendê-los melhor, mas o texto do link explica em detalhes o que exatamente cada parte do programa faz.\n",
        "\n",
        "Se você está familiarizado com programação, ou gosta muito de desafios, pode gerar notícias seguindo a programação em [Markov](https://filiph.github.io/markov/).\n",
        "\n",
        "__Mas veja bem:__\n",
        "usar o primeiro link já é desafio o suficiente para o nível que estamos. O segundo exige uma capacidade de programação compatível somente com aqueles que já tem uma base sólida de programação, vinda da graduação."
      ]
    },
    {
      "cell_type": "markdown",
      "metadata": {
        "id": "aFUNlXpgyd6E"
      },
      "source": [
        "## Cadeia de Markov\n",
        "\n",
        "A cadeia de Markov possui estados possíveis\n",
        "\\begin{equation}\n",
        " \\begin{bmatrix}\n",
        "\\mathbf{q}_1 & \\mathbf{q}_2 & ... & \\mathbf{q}_n \\\\\n",
        "\\end{bmatrix}\n",
        "\\end{equation}\n",
        "\n",
        "E a probabilidade de transição de estado $\\mathbf{A}$ (matriz $n \\times n$)\n",
        "\\begin{equation}\n",
        "a_{ij}=P\\left( \\mathbf{S}_{t+1} | \\mathbf{S}_t \\right)\n",
        "\\end{equation}\n",
        "\n",
        "Dado o estado inicial\n",
        "$\\mathbf{\\pi}=\\mathbf{S}_0=P\\left(\\mathbf{S}_{0_i}=\\mathbf{s}_i\\right)$\n",
        "\n",
        "A transição do estado $\\mathbf{S}_{t}$ para o estado $\\mathbf{S}_{t+n}$ é dada por,\n",
        "\\begin{equation}\n",
        "\\mathbf{S}_{t+n} = \\mathbf{S}_{t} \\mathbf{A}^n\n",
        "\\end{equation}\n",
        "\n",
        "Sabe-se que, para uma matriz de transição $\\mathbf{A}$ constante, a cadeia de Markov leva a um estado estacionário $\\bar{\\mathbf{S}}$, sendo que:\n",
        "\\begin{equation}\n",
        "\\bar{\\mathbf{S}} = \\bar{\\mathbf{S}}\\mathbf{A}\n",
        "\\end{equation}\n",
        "ou, ainda, tem-se a matriz de transição estabilizada, $\\bar{\\mathbf{A}}$, dada por,\n",
        "\n",
        "\\begin{equation}\n",
        "\\bar{\\mathbf{S}} = \\mathbf{S}_0 \\bar{\\mathbf{A}}= \\mathbf{\\pi} \\bar{\\mathbf{A}}\n",
        "\\end{equation}\n",
        "\n",
        "A partir da equação da estacionariedade $\\mathbf{A}^T\\bar{\\mathbf{S}} ^T = \\bar{\\mathbf{S}}^T$, podemos ver que ${\\mathbf{S}}$ deve ser um autovetor de $\\mathbf{A}^T$ com um autovalor $1$.\n",
        "\n",
        "Então, encontramos $\\bar{\\mathbf{S}}$ da seguinte forma,  para uma matriz $\\mathbf{A}$ $3 \\times 3$,\n",
        "\\begin{equation}\n",
        "\\begin{vmatrix}\n",
        "  &a_{11}-1 & a_{21} & a_{31}  \\\\\n",
        "  &a_{12} & a_{22}-1& a_{32}\\\\\n",
        "  &a_{13} & a_{23}& a_{33}-1\\\\\n",
        "\\end{vmatrix}=0\n",
        "\\end{equation}\n",
        "\n",
        "Por exemplo, para uma matriz $\\mathbf{A}$ $3 \\times 3$, tem-se:\n",
        "\n",
        "\\begin{equation}\n",
        "\\begin{split}\n",
        "  &\\bar{s}_1 a_{11} + \\bar{s}_2 a_{21} + \\bar{s}_3 a_{31} &= \\bar{s}_1 \\\\\n",
        "  &\\bar{s}_1 a_{12} + \\bar{s}_2 a_{22} + \\bar{s}_3 a_{32} &= \\bar{s}_2 \\\\\n",
        "  &\\bar{s}_1 a_{13} + \\bar{s}_2 a_{23} + \\bar{s}_3 a_{33} &= \\bar{s}_3 \\\\\n",
        "\\end{split}\n",
        "\\end{equation}\n",
        "e\n",
        "\\begin{equation}\n",
        "\\bar{s}_1 + \\bar{s}_2  + \\bar{s}_3= 1\n",
        "\\end{equation}\n",
        "\n",
        "Em python, `np.linalg.solve` resolve um sistema de equações lineares. E usaremos as equações acima para gerar um sistema:\n",
        "\n",
        "\\begin{equation}\n",
        "\\begin{split}\n",
        "  &\\bar{s}_1 \\left(a_{11}-1\\right) &+ \\bar{s}_2 a_{21} &+ \\bar{s}_3 a_{31}   &= 0 \\\\\n",
        "  &\\bar{s}_1 a_{12} &+ \\bar{s}_2 \\left(a_{22}-1\\right) &+ \\bar{s}_3 a_{32}   &= 0 \\\\\n",
        "  &\\bar{s}_1  a_{13} &+ \\bar{s}_2 a_{23} &+ \\bar{s}_3 \\left(a_{33}-1\\right)   &= 0 \\\\\n",
        "  &\\bar{s}_1       &+ \\bar{s}_2 &+\\bar{s}_3 &= 1\n",
        "  \\end{split}\n",
        "\\end{equation}\n",
        "\n",
        "A função `np.linalg.solve` resolve $Ax=b$ para matriz $A$ quadrada, então aplicamos a transformação em ambos os lados $A^T Ax = A^T b$.\n",
        "\n",
        "Depois, podemos encontrar a matriz de transição estabilizada $\\bar{\\mathbf{A}}$, utilizando-se a equação $\\bar{\\mathbf{S}}^T =  \\bar{\\mathbf{A}}^T\\mathbf{\\pi}^T$.\n",
        "\n",
        "Pode-se porvar que a matriz será,sempre,\n",
        "\n",
        "$$\n",
        "\\bar{\\mathbf{A}} =\\begin{bmatrix}\n",
        "\\mathbf{\\bar S}\\\\\n",
        "\\mathbf{\\bar S}\\\\\n",
        "\\vdots\n",
        "\\end{bmatrix}\n",
        "$$\n",
        "\n",
        "onde $\\pi=[\\pi_1 \\quad \\pi_2 \\quad \\pi_3 \\cdots]$ é a matriz de probabilidades inicial.\n",
        "\n",
        "\n",
        "[Brinque](https://setosa.io/ev/markov-chains/) com cadeia de Markov."
      ]
    },
    {
      "cell_type": "markdown",
      "source": [
        "### Exemplo de aplicação\n",
        "\n",
        "<center><img src='https://drive.google.com/uc?export=view&id=140mitXL21DSCXh5uNuQkx6bnxzpdD1Yh' width=\"300\"></center>\n",
        "\n",
        "Para $\\pi =[3/5 \\quad 2/5]$ e matriz de transição dada por,\n",
        "\n",
        "$$\n",
        "\\mathbf{A} = \\begin{bmatrix}\n",
        "0.5 & 0.5  \\\\\n",
        "0.25 & 0.75\n",
        "\\end{bmatrix}\n",
        "$$\n",
        "\n",
        "Queremos resolver:\n",
        "\n",
        "$$\n",
        "\\mathbf{\\bar{S}} \\mathbf{A} = \\mathbf{\\bar{S}}\n",
        "\\Rightarrow \\mathbf{A} \\mathbf{\\bar{S}}^T =\\mathbf{\\bar{S}}^T\n",
        "$$\n",
        "\n",
        "Ou seja, resolver $(\\mathbf{A}^T - \\mathbf{I}) \\mathbf{\\bar{S}}^T = 0$\n",
        "\n",
        "$$\n",
        "\\mathbf{A}^T = \\begin{bmatrix}\n",
        "0.5 & 0.25 \\\\\n",
        "0.5 & 0.75\n",
        "\\end{bmatrix}, \\quad\n",
        "\\mathbf{A}^T - \\mathbf{I} = \\begin{bmatrix}\n",
        "-0.5 & 0.25 \\\\\n",
        "0.5 & -0.25\n",
        "\\end{bmatrix}\n",
        "$$\n",
        "\n",
        "Resolvendo o sistema:\n",
        "\n",
        "$$\n",
        "-0.5 \\bar{s}_1 + 0.25 \\bar{s}_2 = 0 \\Rightarrow \\bar{s}_1 = 0.5 \\bar{s}_2\n",
        "$$\n",
        "\n",
        "Mas,\n",
        "\n",
        "$$\n",
        "\\bar{s}_1 + \\bar{s}_2 = 1 \\Rightarrow 0.5 \\bar{s}_2 + \\bar{s}_2 = 1 \\Rightarrow \\frac{3}{2} \\bar{s}_2 = 1 \\Rightarrow \\bar{s}_2 = \\frac{2}{3}, \\quad \\bar{s}_1 = \\frac{1}{3}\n",
        "$$\n",
        "\n",
        "Portanto:\n",
        "\n",
        "$$\n",
        "\\boldsymbol{\\bar{S}}^T = \\begin{bmatrix}\n",
        "\\frac{1}{3} \\\\\n",
        "\\frac{2}{3}\n",
        "\\end{bmatrix}\n",
        "$$\n",
        "\n",
        "A matriz estabilizada:\n",
        "\n",
        "$$\n",
        "\\boldsymbol{\\bar{S}} = \\begin{bmatrix}\n",
        "\\frac{1}{3} &\n",
        "\\frac{2}{3}\n",
        "\\end{bmatrix}, \\quad\n",
        "\\bar{\\mathbf{A}} = \\begin{bmatrix}\n",
        "\\frac{1}{3} & \\frac{2}{3} \\\\\n",
        "\\frac{1}{3} & \\frac{2}{3}\n",
        "\\end{bmatrix}\n",
        "$$\n"
      ],
      "metadata": {
        "id": "BalQqyQKjYGV"
      }
    },
    {
      "cell_type": "markdown",
      "source": [
        "Em python, usaremos `np.linalg.solve` para resolver o sistema de equações lineares."
      ],
      "metadata": {
        "id": "ffVHtaGWkHOg"
      }
    },
    {
      "cell_type": "code",
      "source": [
        "#Resposta:\n",
        "A = np.array([[0.5,0.5],[0.25,0.75]])\n",
        "A2 = np.append(A.T-np.identity(2),[[1,1]],axis=0)\n",
        "b = (np.array([0,0,1])).T\n",
        "#matriz deixa de ser quadrada\n",
        "sbar = np.linalg.solve(A2.T.dot(A2), A2.T.dot(b))\n",
        "print('A distribuição estável é dada por:\\n',sbar)\n",
        "\n",
        "w,v=np.linalg.eig(A.T) # autovetores são as colunas de v\n",
        "for i,autovalor in enumerate(w):\n",
        "  if autovalor == 1:\n",
        "    autovetor = v[:,i]\n",
        "    sum = np.sum(autovetor)\n",
        "    autovetor = autovetor/sum\n",
        "sbar = autovetor\n",
        "print('A distribuição estável é dada por:\\n',sbar)"
      ],
      "metadata": {
        "id": "zHzN0XnrcC1w",
        "colab": {
          "base_uri": "https://localhost:8080/"
        },
        "outputId": "b917fa7e-1468-4883-af58-d2dc31e04e14"
      },
      "execution_count": 35,
      "outputs": [
        {
          "output_type": "stream",
          "name": "stdout",
          "text": [
            "A distribuição estável é dada por:\n",
            " [0.33333333 0.66666667]\n",
            "A distribuição estável é dada por:\n",
            " [0.33333333 0.66666667]\n"
          ]
        }
      ]
    },
    {
      "cell_type": "code",
      "source": [
        "Abar = np.array([sbar,sbar])\n",
        "print('A matriz de transformação estável é dada por:\\n',Abar)"
      ],
      "metadata": {
        "id": "VYhecWHOoLfL",
        "colab": {
          "base_uri": "https://localhost:8080/"
        },
        "outputId": "1e7705d3-03d1-4c37-c870-59771ebf13e0"
      },
      "execution_count": 36,
      "outputs": [
        {
          "output_type": "stream",
          "name": "stdout",
          "text": [
            "A matriz de transformação estável é dada por:\n",
            " [[0.33333333 0.66666667]\n",
            " [0.33333333 0.66666667]]\n"
          ]
        }
      ]
    },
    {
      "cell_type": "code",
      "source": [
        "S0=np.array([3/5,2/5])\n",
        "S0.dot(Abar)"
      ],
      "metadata": {
        "id": "QqKPrqkhT9ic",
        "colab": {
          "base_uri": "https://localhost:8080/"
        },
        "outputId": "87fad2e0-ed09-48c1-e52e-db0438ed76b2"
      },
      "execution_count": 37,
      "outputs": [
        {
          "output_type": "execute_result",
          "data": {
            "text/plain": [
              "array([0.33333333, 0.66666667])"
            ]
          },
          "metadata": {},
          "execution_count": 37
        }
      ]
    },
    {
      "cell_type": "markdown",
      "metadata": {
        "id": "UDpwFXMNqtb9"
      },
      "source": [
        "### Exemplo Marcas de fast food\n",
        "\n",
        "<center><img src='https://drive.google.com/uc?export=view&id=1chbEE-Oa_9PHMILDPh2Ex5HdCHa7kN00' width=\"400\"></center>\n",
        "\n",
        "Queremos analisar a transação de clientes em uma área de alimentação de um shopping. Analisamos os clientes almoçando nos três lugares mostrados. A probabilidade do cliente voltar no dia seguinte ou ir para outro lugar é definida conforme a matriz de transição\n",
        "\\begin{equation}\n",
        "\\mathbf{A} = \\begin{bmatrix}\n",
        "0.8 & 0.1 & 0.1 \\\\\n",
        "0.2 & 0.7 & 0.1 \\\\\n",
        "0.1 & 0.3 & 0.6 \\\\\n",
        "\\end{bmatrix}\n",
        "\\end{equation}\n",
        "\n",
        "1. Dados os estados iniciais $S_0=\\left[0.4 \\quad 0.24 \\quad 0.36 \\right]$, defina a distribuição provável de 500 clientes no dia seguinte.\n",
        "1. Plote o gráfico das variáveis em função das iterações.\n",
        "2. Encontre a distribuição estável $\\bar{\\mathbf{s}}$.\n",
        "1. Encontre a matriz de transição estável, $\\bar{\\mathbf{A}}$.\n",
        "2. Encontre $\\bar{\\mathbf{s}}$ para diferentes entradas $S_0$ usando $\\bar{\\mathbf{A}}$ obtida no item anterior.\n",
        "\n",
        "\n",
        "\n"
      ]
    },
    {
      "cell_type": "code",
      "execution_count": 38,
      "metadata": {
        "id": "jeX1AAFJqqJp",
        "colab": {
          "base_uri": "https://localhost:8080/",
          "height": 558
        },
        "outputId": "c899239c-56c0-4066-a881-48584927751b"
      },
      "outputs": [
        {
          "output_type": "stream",
          "name": "stdout",
          "text": [
            "1. O número de pessoas que irão aos locais 0,1,2 serão: 0    200.0\n",
            "1    120.0\n",
            "2    180.0\n",
            "Name: 0, dtype: float64\n",
            "Item 2\n"
          ]
        },
        {
          "output_type": "display_data",
          "data": {
            "text/plain": [
              "<Figure size 640x480 with 0 Axes>"
            ]
          },
          "metadata": {}
        },
        {
          "output_type": "display_data",
          "data": {
            "text/plain": [
              "<Figure size 640x480 with 1 Axes>"
            ],
            "image/png": "[encoded data removed]"
          },
          "metadata": {}
        }
      ],
      "source": [
        "A = np.array([[0.8, 0.1, 0.1],\n",
        "              [0.2, 0.7, 0.1],\n",
        "              [0.1, 0.3, 0.6]])\n",
        "state=np.array([[0.4, 0.24, 0.36]])\n",
        "stateHist=state\n",
        "dfStateHist=pd.DataFrame(state)\n",
        "distr_hist = [[0,0,0]]\n",
        "plt.figure()\n",
        "for x in range(20):\n",
        "  state=np.dot(state,A)\n",
        "  stateHist=np.append(stateHist,state,axis=0)\n",
        "  dfDistrHist = pd.DataFrame(stateHist)\n",
        "dfDistrHist.plot()\n",
        "#Item 1\n",
        "value_500 = 500*dfDistrHist.iloc[0]\n",
        "print('1. O número de pessoas que irão aos locais 0,1,2 serão:',value_500)\n",
        "#Item 2\n",
        "print('Item 2')\n",
        "plt.xlabel('Número de iterações', fontsize = 12)\n",
        "plt.ylabel('$X_0,X_1, X_2$', fontsize = 12)\n",
        "plt.legend()\n",
        "plt.show()"
      ]
    },
    {
      "cell_type": "code",
      "execution_count": 39,
      "metadata": {
        "id": "4qZ7JhIW8gVV",
        "colab": {
          "base_uri": "https://localhost:8080/"
        },
        "outputId": "0d354761-777f-4cc4-aa32-1308de192f40"
      },
      "outputs": [
        {
          "output_type": "stream",
          "name": "stdout",
          "text": [
            "3. A distribuição estável é dada por: [0.45 0.35 0.2 ]\n",
            "4. A matriz de transformação estável é dada por: [[0.45 0.35 0.2 ]\n",
            " [0.45 0.35 0.2 ]\n",
            " [0.45 0.35 0.2 ]]\n",
            "5. Independente do estado inicial, o estado estacionário é o mesmo:\n",
            "[[0.45 0.35 0.2 ]]\n",
            "[[0.45 0.35 0.2 ]]\n",
            "[[0.45 0.35 0.2 ]]\n"
          ]
        }
      ],
      "source": [
        "# Faremos um sistema linear para resolver com np.linalg.solve\n",
        "#Para isso precisamos unir todas as equações conforme explicado no texto\n",
        "A2 = np.append(A.T-np.identity(3),[[1,1,1]],axis=0)\n",
        "b = (np.array([0,0,0,1])).T\n",
        "#matriz deixa de ser quadrada usar teorema de Rouché-Capelli\n",
        "xbar = np.linalg.solve(A2.T.dot(A2), A2.T.dot(b))\n",
        "#Item 3\n",
        "print('3. A distribuição estável é dada por:',xbar)\n",
        "#Item 4\n",
        "Abar = np.array([xbar,xbar,xbar])\n",
        "print('4. A matriz de transformação estável é dada por:',Abar)\n",
        "#Item 5\n",
        "#Estado inicial 1:\n",
        "print('5. Independente do estado inicial, o estado estacionário é o mesmo:')\n",
        "print(state.dot(Abar))\n",
        "state2=np.array([[0.1, 0.5, 0.4]])\n",
        "print(state2.dot(Abar))\n",
        "state3=np.array([[0.3, 0.5, 0.2]])\n",
        "print(state2.dot(Abar))"
      ]
    },
    {
      "cell_type": "markdown",
      "metadata": {
        "id": "aPFn53h7Xd5p"
      },
      "source": [
        "### Exemplo da Loja de Doces\n",
        "Temos duas lojas de doces, $A$ e $B$. Sabe-se,a través de pesquisas, que $30\\%$ dos clientes da loja $A$ vão para loja $B$ todo mês, e $20\\%$ dos clientes da loja $B$ vão para loja $A$ todo mês. Qual a matriz de distribuição estabilizada $\\bar{\\mathbf{A}}$ e, supondo que tenhamos 200 clientes ao total, como se distribuirão no estado estacionário?"
      ]
    },
    {
      "cell_type": "code",
      "execution_count": 41,
      "metadata": {
        "id": "XFvbRJtrSl8G",
        "colab": {
          "base_uri": "https://localhost:8080/"
        },
        "outputId": "e7445035-af9c-4bf6-af12-3b03b7b1ffa3"
      },
      "outputs": [
        {
          "output_type": "stream",
          "name": "stdout",
          "text": [
            "A distribuição estável é dada por: [0.4 0.6]\n"
          ]
        }
      ],
      "source": [
        " # Matriz de transição\n",
        "A = np.array([[0.7, 0.3],\n",
        "              [0.2, 0.8]])\n",
        "\n",
        "# Montando o sistema de equações para encontrar o estado estável\n",
        "# (A.T - I)x = 0 e sum(x) = 1\n",
        "A2 = np.append(A.T - np.identity(2), [[1, 1]], axis=0)\n",
        "b = np.array([0, 0, 1]).T\n",
        "\n",
        "# Resolvendo o sistema Ax=b com a transformação A.T*A*x = A.T*b\n",
        "sbar = np.linalg.solve(A2.T.dot(A2), A2.T.dot(b))\n",
        "\n",
        "print('A distribuição estável é dada por:', sbar)\n"
      ]
    },
    {
      "cell_type": "code",
      "execution_count": 42,
      "metadata": {
        "id": "mCV3sS5AJkE3",
        "colab": {
          "base_uri": "https://localhost:8080/"
        },
        "outputId": "8ee70a67-87d8-4fb8-e984-73a04018df29"
      },
      "outputs": [
        {
          "output_type": "stream",
          "name": "stdout",
          "text": [
            "A distribuição estável é dada por: [0.4 0.6]\n",
            "A matriz de transformação estável é dada por: [[0.4 0.6]\n",
            " [0.4 0.6]\n",
            " [0.4 0.6]]\n",
            "Para 200 clientes ao total, tem-se a seguinte distribuição nas lojas A e B, respectivamente, 80 e 120\n"
          ]
        }
      ],
      "source": [
        "#Resposta:\n",
        "A = np.array([[0.7,0.3],[0.2,0.8]])\n",
        "A2 = np.append(A.T-np.identity(2),[[1,1]],axis=0)\n",
        "b = (np.array([0,0,1])).T\n",
        "xbar = np.linalg.solve(A2.T.dot(A2), A2.T.dot(b))\n",
        "print('A distribuição estável é dada por:',xbar)\n",
        "Abar = np.array([xbar,xbar,xbar])\n",
        "print('A matriz de transformação estável é dada por:',Abar)\n",
        "print('Para 200 clientes ao total, tem-se a seguinte distribuição nas lojas A e B, respectivamente,'\n",
        "       ,int(round(xbar[0]*200)),'e',int(round(xbar[1]*200)))"
      ]
    },
    {
      "cell_type": "markdown",
      "metadata": {
        "id": "wCXxIqOQMrfD"
      },
      "source": [
        "### Exemplo de análise de lealdade à marca\n",
        "Três marcas $A,B,C$ foram analisadas e verificou-se que:\n",
        "\n",
        "\n",
        "*   Na marca $A$: $10\\%$ dos clientes se movem para $B$ e $10\\%$ se movem para $C$\n",
        "*   Na marca $B$: $20\\%$ dos clientes se movem para $A$ e $20\\%$ se movem para $C$\n",
        "*   Na marca $C$: $10\\%$ dos clientes se movem para $A$ e $20\\%$ se movem para $B$\n",
        "\n",
        "Encontre a matriz de distribuição estabilizada e o vetor de estabilização.\n",
        "\n"
      ]
    },
    {
      "cell_type": "code",
      "execution_count": 43,
      "metadata": {
        "id": "vhcsS_xiN1bt",
        "colab": {
          "base_uri": "https://localhost:8080/"
        },
        "outputId": "5af120d0-27e4-44a0-89e4-e69bb7b65f48"
      },
      "outputs": [
        {
          "output_type": "stream",
          "name": "stdout",
          "text": [
            "O vetor de estabilização é:\n",
            "[0.42105263 0.26315789 0.31578947]\n"
          ]
        }
      ],
      "source": [
        "# Definindo a matriz de transição\n",
        "A = np.array([[0.8, 0.1, 0.1],\n",
        "              [0.2, 0.6, 0.2],\n",
        "              [0.1, 0.2, 0.7]])\n",
        "\n",
        "# Montando o sistema de equações para encontrar o estado estável\n",
        "# O sistema é (A.T - I)x = 0, com a restrição adicional de que a soma dos elementos de x é 1.\n",
        "A_system = np.append(A.T - np.identity(3), [[1, 1, 1]], axis=0)\n",
        "b = np.array([0, 0, 0, 1]).T\n",
        "\n",
        "# Resolvendo o sistema. Como a matriz não é quadrada, usamos o método dos mínimos quadrados.\n",
        "sbar = np.linalg.solve(A_system.T.dot(A_system), A_system.T.dot(b))\n",
        "\n",
        "print('O vetor de estabilização é:')\n",
        "print(sbar)"
      ]
    },
    {
      "cell_type": "markdown",
      "metadata": {
        "id": "PrOim0V037tO"
      },
      "source": [
        "### Cadeias de Markov com estados absorventes\n",
        "Um estado da cadeia de Markov é chamado de *estado absorvente* se $a_{ii} = 1 $ e, por consequência, qualquer valor da linha $i$, $a_{ij}, i \\neq j$, vale $0$. Uma cadeia de Markov é dita absorvente se existe ao menos um estado absorvente, ou se for possível, a partir de qualquer estado, atingir um estado absorvente, não necessariamente em um único passo.\n",
        "\n",
        "Veja a figura abaixo. Veja que a matriz da figura é definida como:\n",
        "\\begin{equation}\n",
        "\\mathbf{A} = \\begin{bmatrix}\n",
        "1.0 & 0.0 & 0.0 \\\\\n",
        "0.2 & 0.7 & 0.1 \\\\\n",
        "0.3 & 0.1 & 0.6 \\\\\n",
        "\\end{bmatrix}\n",
        "\\end{equation}\n",
        "\n",
        "Dessa forma,\n",
        "\\begin{equation}\n",
        "\\mathbf{A}^2 = \\begin{bmatrix}\n",
        "1.0 & 0.0 & 0.0 \\\\\n",
        "0.37 & 0.50 & 0.13 \\\\\n",
        "0.50 & 0.13 & 0.37 \\\\\n",
        "\\end{bmatrix}\n",
        "\\end{equation}\n",
        "\n",
        "\\begin{equation}\n",
        "\\mathbf{A}^3 = \\begin{bmatrix}\n",
        "1.0 & 0.0 & 0.0 \\\\\n",
        "0.509 & 0.363 & 0.128 \\\\\n",
        "0.637 & 0.128 & 0.235 \\\\\n",
        "\\end{bmatrix}\n",
        "\\end{equation}\n",
        "\n",
        "Se formos adiante, perceberemos que a primeira coluna os valores crescem, se aproximando de 1, a primeira linha se mantém constante, e os demais valores estão indo para zero. Veja, por exemplo,\n",
        "\n",
        "\\begin{equation}\n",
        "\\mathbf{A}^5 = \\begin{bmatrix}\n",
        "1.0 & 0.0 & 0.0 \\\\\n",
        "0.707 & 0.198 & 0.095 \\\\\n",
        "0.802 & 0.095 & 0.103 \\\\\n",
        "\\end{bmatrix}\n",
        "\\end{equation}\n",
        "\n",
        "Eventualmente, o estado estacionário leva a:\n",
        "\\begin{equation}\n",
        "\\bar{\\mathbf{A}} = \\begin{bmatrix}\n",
        "1 & 0 & 0 \\\\\n",
        "1 & 0 & 0 \\\\\n",
        "1 & 0 & 0 \\\\\n",
        "\\end{bmatrix}\n",
        "\\end{equation}\n",
        "isto é,\n",
        "\\begin{equation}\n",
        "\\bar{s} = \\begin{bmatrix}\n",
        "1 & 0 & 0\n",
        "\\end{bmatrix}\n",
        "\\end{equation}\n",
        "\n",
        "Isto é, o estado $\\mathbf{\\mathcal{\\bar P}} $ absorve todo o universo analisado.\n",
        "\n",
        "Foi usada a palavra *eventualmente* no texto acima. Veja o exemplo de um estudo realizado pela Universidade da Carolina do Norte em pacientes de um determinado hospital. O problema foi modelado por uma cadeia de Markov: $0$ (morto), $1$ (estado desfavorável), $2 $(estado favorável). A matriz de transição tem um ciclo de 72 horas,\n",
        "\n",
        "\\begin{equation}\n",
        "\\mathbf{A} = \\begin{bmatrix}\n",
        "1.0 & 0.0 & 0.0 \\\\\n",
        "0.085 & 0.779 & 0.136 \\\\\n",
        "0.017 & 0.017 & 0.966 \\\\\n",
        "\\end{bmatrix}\n",
        "\\end{equation}\n",
        "\n",
        "Perceba que $a_{11} = 1$, ou seja, $a_1$ é um estado de absorção, uma vez que o paciente morto, a cada passo ele continuará morto. Os estados $2$ e $3$ são\n",
        "os estados de transição, e a partir de qualquer um destes é possível chegar no estado de absorção. Daí, a cadeia é absorvente. Porém, não é sensato acreditar que todos os pacientes acabarão mortos. Então, a matriz de transformação estabilizada é diferente daquela mostrada anteriormente.\n",
        "\n",
        "Um [estudo](https://www.ncbi.nlm.nih.gov/pmc/articles/PMC1828134/) realizado pela universidade de medicina do Texas em pacientes em UTI de um determinado hospital foi modelado por uma cadeia de Markov, com 8 estados possíveis após o primeiro dia de internação na unidade de terapia intensiva foram avaliados para cada paciente de UTI: enfermaria do mesmo hospital (W); Enfermaria de outro hospital, não UTI ou estar em outro hospital após a alta da UTI para outro hospital (B); UTI de outro hospital (O); Unidade de alta dependência ou área de atendimento intermediário mesmo hospital (U); mesma UTI ou outra UTI dentro do mesmo hospital (I); outro local mesmo hospital (H), saída (E) e óbito (D). Cada destino identifica um estado na cadeia de Markov. **Leia o artigo e veja uma aplicação clara do modelo.**"
      ]
    },
    {
      "cell_type": "markdown",
      "metadata": {
        "id": "utiZhwypr9FH"
      },
      "source": [
        "#### Exercício\n",
        "\n",
        "Para as duas matrizes abaixo,\n",
        "\n",
        "\\begin{equation}\n",
        "\\mathbf{A} = \\begin{bmatrix}\n",
        "1.0 & 0.0 &  0.0 & 0.0 \\\\\n",
        "0.0 & 1.0 &  0.0 & 0.0 \\\\\n",
        "0.2 & 0.2 &  0.5 & 0.1 \\\\\n",
        "0.3 & 0.1 &  0.2 & 0.4 \\\\\n",
        "\\end{bmatrix}\n",
        "\\end{equation}\n",
        "\n",
        "\n",
        "\\begin{equation}\n",
        "\\mathbf{A} = \\begin{bmatrix}\n",
        "1.0 & 0.0 & 0.0 \\\\\n",
        "0.4 & 0.3 & 0.3 \\\\\n",
        "0.3 & 0.2 & 0.5 \\\\\n",
        "\\end{bmatrix}\n",
        "\\end{equation}\n",
        "\n",
        "1.   Encontre a matriz estabilizada de transição de estado;\n",
        "2.   Use diferentes valores de $\\mathbf{S}_0$ e verifique os valores encontrados. Qual sua conclusão?"
      ]
    },
    {
      "cell_type": "markdown",
      "source": [
        "### Markov oculto\n"
      ],
      "metadata": {
        "id": "SjA4vTXfrxvS"
      }
    },
    {
      "cell_type": "markdown",
      "metadata": {
        "id": "dB9expAbt6PA"
      },
      "source": [
        "#### <font color='green'>Seu trabalho </font>\n",
        "\n",
        "<center><img src='https://drive.google.com/uc?export=view&id=1r_BcKlp6AVj46yeQlT9fNxZY1qeajrH_' width=\"200\"></center>\n",
        "\n",
        "<font color='green'>\n",
        "A aula de hoje, apesar de complexa, foi apenas uma introdução aos modelos de Markov, que serão muito úteis em nossas próximas etapas. Na lição de casa, você resolverá um problema mais elaborado, com até 3 colegas. A nota desta lição, substituirá sua menor nota.\n",
        "</font>\n",
        "\n",
        "<font color='green'>\n",
        "Suponha que alguém lance uma moeda dez vezes e forneça o resultado:. Porém, o lançador tem duas moedas e muda aleatoriamente de uma moeda para outra. Uma moeda é equilibrada $E$ e a outra é tendenciosa $NE$, que resulta em cara 80% das vezes que é lançada. Após cada lançamento, o jogador pode manter a mesma moeda (probabilidade 0,8), mudar para a outra moeda (0,20). Além disso, a probabilidade de começar com a moeda equilibrada é 0,8. Com essas informações,\n",
        "\n",
        "1. Monte o problema e as matrizes;\n",
        "2. Qual a probabilidade da sequência $CKKCCCCCKC$, onde $C$ é cara e $K$ é coroa, ocorrer?\n",
        "3. Qual a sequência mais provável das moedas utilizadas?\n",
        "4. Qual a probabilidade dessa sequência ocorrer cem vezes? Estude o fenômeno de underflow e proponha a solução.\n",
        "\n",
        "</font>"
      ]
    },
    {
      "cell_type": "code",
      "source": [
        "import numpy as np\n",
        "import math\n",
        "\n",
        "\n",
        "# 1. MONTAGEM DO PROBLEMA E DAS MATRIZES\n",
        "\n",
        "\n",
        "print(\"=\"*60)\n",
        "print(\"1. PARÂMETROS DO MODELO OCULTO DE MARKOV (HMM)\")\n",
        "print(\"=\"*60)\n",
        "\n",
        "# A sequência de observações (C: Cara, K: Coroa)\n",
        "observed_sequence = ['C', 'K', 'K', 'C', 'C', 'C', 'C', 'C', 'K', 'C']\n",
        "\n",
        "# Os estados ocultos do sistema (as moedas)\n",
        "states = ('E', 'NE') # E: Equilibrada, NE: Não Equilibrada\n",
        "\n",
        "# O dicionário de probabilidades iniciais (vetor pi)\n",
        "start_probability = {'E': 0.8, 'NE': 0.2}\n",
        "\n",
        "# A matriz de transição de estados (matriz A)\n",
        "# Representa a probabilidade de mudar de um estado para outro\n",
        "transition_probability = {\n",
        "    'E':  {'E': 0.8, 'NE': 0.2},\n",
        "    'NE': {'E': 0.2, 'NE': 0.8},\n",
        "}\n",
        "\n",
        "# A matriz de emissão/observação (matriz B)\n",
        "# Representa a probabilidade de uma observação ser gerada por um estado\n",
        "emission_probability = {\n",
        "    'E':  {'C': 0.5, 'K': 0.5},\n",
        "    'NE': {'C': 0.8, 'K': 0.2},\n",
        "}\n",
        "\n",
        "print(f\"Sequência de Observações: {observed_sequence}\\n\")\n",
        "print(f\"Estados Ocultos: {states}\\n\")\n",
        "print(f\"Probabilidades Iniciais (pi): {start_probability}\\n\")\n",
        "print(f\"Matriz de Transição (A):\")\n",
        "for state, transitions in transition_probability.items():\n",
        "    print(f\"  De {state}: {transitions}\")\n",
        "print(\"\\nMatriz de Emissão (B):\")\n",
        "for state, emissions in emission_probability.items():\n",
        "    print(f\"  De {state}: {emissions}\")\n",
        "print(\"-\" * 60 + \"\\n\")\n",
        "\n",
        "\n",
        "# 2. PROBABILIDADE DA SEQUÊNCIA (ALGORITMO FORWARD)\n",
        "\n",
        "\n",
        "def forward_algorithm(obs_seq, states, start_p, trans_p, emit_p):\n",
        "    \"\"\"\n",
        "    Calcula a probabilidade de uma sequência de observações usando o Algoritmo Forward.\n",
        "    \"\"\"\n",
        "    # Usamos um dicionário para armazenar as probabilidades forward\n",
        "    forward_probs = {}\n",
        "\n",
        "    # Passo 1: Inicialização (t=0)\n",
        "    # Calcula a probabilidade da primeira observação para cada estado.\n",
        "    first_obs = obs_seq[0]\n",
        "    for state in states:\n",
        "        forward_probs[state] = start_p[state] * emit_p[state][first_obs]\n",
        "\n",
        "    # Passo 2: Recorrência (t=1 até N-1)\n",
        "    # Para cada passo no tempo, calcula a prob. de chegar em cada estado.\n",
        "    for i in range(1, len(obs_seq)):\n",
        "        obs = obs_seq[i]\n",
        "        new_forward_probs = {}\n",
        "        for current_state in states:\n",
        "            # Soma das probabilidades de transição dos estados anteriores\n",
        "            prob_sum = 0\n",
        "            for prev_state in states:\n",
        "                prob_sum += forward_probs[prev_state] * trans_p[prev_state][current_state]\n",
        "\n",
        "            # Multiplica pela probabilidade de emissão da observação atual\n",
        "            new_forward_probs[current_state] = prob_sum * emit_p[current_state][obs]\n",
        "        forward_probs = new_forward_probs\n",
        "\n",
        "    # Passo 3: Terminação\n",
        "    # A probabilidade total da sequência é a soma das probabilidades no último passo.\n",
        "    # **CORREÇÃO APLICADA AQUI:** Usando np.sum para evitar conflito com a função nativa sum().\n",
        "    total_prob = np.sum(list(forward_probs.values()))\n",
        "\n",
        "    return total_prob\n",
        "\n",
        "print(\"=\"*60)\n",
        "print(\"2. PROBABILIDADE DA SEQUÊNCIA (ALGORITMO FORWARD)\")\n",
        "print(\"=\"*60)\n",
        "\n",
        "total_probability = forward_algorithm(\n",
        "    observed_sequence,\n",
        "    states,\n",
        "    start_probability,\n",
        "    transition_probability,\n",
        "    emission_probability\n",
        ")\n",
        "print(f\"A probabilidade da sequência {observed_sequence} ocorrer é:\")\n",
        "print(f\"P(Sequência) ≈ {total_probability:.10f}\")\n",
        "print(f\"Em notação científica: {total_probability:.4e}\\n\")\n",
        "\n",
        "\n",
        "# 3. SEQUÊNCIA MAIS PROVÁVEL DE MOEDAS (ALGORITMO DE VITERBI)\n",
        "\n",
        "\n",
        "def viterbi_algorithm(obs_seq, states, start_p, trans_p, emit_p):\n",
        "    \"\"\"\n",
        "    Encontra a sequência de estados mais provável usando o Algoritmo de Viterbi.\n",
        "    \"\"\"\n",
        "    # V: Armazena a probabilidade do caminho mais provável até o tempo t\n",
        "    V = [{}]\n",
        "    # path: Armazena o caminho (backpointers)\n",
        "    path = {}\n",
        "\n",
        "    # Passo 1: Inicialização (t=0)\n",
        "    first_obs = obs_seq[0]\n",
        "    for state in states:\n",
        "        V[0][state] = start_p[state] * emit_p[state][first_obs]\n",
        "        path[state] = [state]\n",
        "\n",
        "    # Passo 2: Recorrência (t=1 até N-1)\n",
        "    for t in range(1, len(obs_seq)):\n",
        "        V.append({})\n",
        "        new_path = {}\n",
        "        obs = obs_seq[t]\n",
        "\n",
        "        for current_state in states:\n",
        "            # Encontra a probabilidade e o estado que maximizam a chance de chegar ao estado atual\n",
        "            max_prob = -1\n",
        "            best_prev_state = None\n",
        "            for prev_state in states:\n",
        "                prob = V[t-1][prev_state] * trans_p[prev_state][current_state]\n",
        "                if prob > max_prob:\n",
        "                    max_prob = prob\n",
        "                    best_prev_state = prev_state\n",
        "\n",
        "            # Multiplica pela prob. de emissão e armazena o caminho\n",
        "            max_prob *= emit_p[current_state][obs]\n",
        "            V[t][current_state] = max_prob\n",
        "            new_path[current_state] = path[best_prev_state] + [current_state]\n",
        "\n",
        "        path = new_path\n",
        "\n",
        "    # Passo 3: Terminação e Backtracking\n",
        "    # Encontra o estado final do caminho mais provável\n",
        "    max_prob = -1\n",
        "    best_path_end_state = None\n",
        "    last_step = len(obs_seq) - 1\n",
        "    for state in states:\n",
        "        if V[last_step][state] > max_prob:\n",
        "            max_prob = V[last_step][state]\n",
        "            best_path_end_state = state\n",
        "\n",
        "    most_probable_sequence = path[best_path_end_state]\n",
        "\n",
        "    return max_prob, most_probable_sequence\n",
        "\n",
        "print(\"=\"*60)\n",
        "print(\"3. SEQUÊNCIA MAIS PROVÁVEL DE MOEDAS (ALGORITMO DE VITERBI)\")\n",
        "print(\"=\"*60)\n",
        "\n",
        "prob_path, seq_path = viterbi_algorithm(\n",
        "    observed_sequence,\n",
        "    states,\n",
        "    start_probability,\n",
        "    transition_probability,\n",
        "    emission_probability\n",
        ")\n",
        "print(f\"A sequência de moedas mais provável é:\")\n",
        "print(f\"Caminho: {' → '.join(seq_path)}\")\n",
        "print(f\"Probabilidade deste caminho: {prob_path:.4e}\\n\")\n",
        "\n",
        "\n",
        "\n",
        "# 4. FENÔMENO DE UNDERFLOW E SOLUÇÃO COM LOGARITMOS\n",
        "\n",
        "print(\"=\"*60)\n",
        "print(\"4. FENÔMENO DE UNDERFLOW E SOLUÇÃO COM LOGARITMOS\")\n",
        "print(\"=\"*60)\n",
        "\n",
        "print(\"a) O Problema do Underflow:\")\n",
        "prob_100_times_standard = total_probability ** 100\n",
        "print(f\"Tentando calcular P(Sequência)^100 com ponto flutuante padrão:\")\n",
        "print(f\"  ({total_probability:.4e})^100 = {prob_100_times_standard}\")\n",
        "print(\"O resultado é zero, pois o número é pequeno demais para ser representado.\\n\")\n",
        "\n",
        "print(\"b) A Solução: Trabalhar com Logaritmos:\")\n",
        "print(\"Para evitar o underflow, convertemos as probabilidades para o espaço logarítmico.\")\n",
        "print(\"A multiplicação se torna soma: log(a*b) = log(a) + log(b).\")\n",
        "print(\"A soma se torna uma operação especial chamada LogSumExp: log(a+b) = log(e^log(a) + e^log(b)).\\n\")\n",
        "\n",
        "# Re-implementando Viterbi com logaritmos\n",
        "def viterbi_log_algorithm(obs_seq, states, start_p, trans_p, emit_p):\n",
        "    \"\"\"\n",
        "    Algoritmo de Viterbi no espaço logarítmico para evitar underflow.\n",
        "    \"\"\"\n",
        "    # Converte as probabilidades para log-probabilidades\n",
        "    # Adicionamos um valor muito pequeno para evitar log(0) = -inf\n",
        "    epsilon = 1e-100\n",
        "    log_start_p = {state: math.log(p + epsilon) for state, p in start_p.items()}\n",
        "    log_trans_p = {s_from: {s_to: math.log(p + epsilon) for s_to, p in ps.items()} for s_from, ps in trans_p.items()}\n",
        "    log_emit_p = {state: {obs: math.log(p + epsilon) for obs, p in ps.items()} for state, ps in emit_p.items()}\n",
        "\n",
        "    V = [{}]\n",
        "    path = {}\n",
        "\n",
        "    first_obs = obs_seq[0]\n",
        "    for state in states:\n",
        "        V[0][state] = log_start_p[state] + log_emit_p[state][first_obs]\n",
        "        path[state] = [state]\n",
        "\n",
        "    for t in range(1, len(obs_seq)):\n",
        "        V.append({})\n",
        "        new_path = {}\n",
        "        obs = obs_seq[t]\n",
        "\n",
        "        for current_state in states:\n",
        "            max_log_prob = -float('inf')\n",
        "            best_prev_state = None\n",
        "            for prev_state in states:\n",
        "                # Soma no espaço logarítmico\n",
        "                log_prob = V[t-1][prev_state] + log_trans_p[prev_state][current_state]\n",
        "                if log_prob > max_log_prob:\n",
        "                    max_log_prob = log_prob\n",
        "                    best_prev_state = prev_state\n",
        "\n",
        "            V[t][current_state] = max_log_prob + log_emit_p[current_state][obs]\n",
        "            new_path[current_state] = path[best_prev_state] + [current_state]\n",
        "\n",
        "        path = new_path\n",
        "\n",
        "    max_log_prob = -float('inf')\n",
        "    best_path_end_state = None\n",
        "    last_step = len(obs_seq) - 1\n",
        "    for state in states:\n",
        "        if V[last_step][state] > max_log_prob:\n",
        "            max_log_prob = V[last_step][state]\n",
        "            best_path_end_state = state\n",
        "\n",
        "    return max_log_prob, path[best_path_end_state]\n",
        "\n",
        "log_prob_path, log_seq_path = viterbi_log_algorithm(\n",
        "    observed_sequence,\n",
        "    states,\n",
        "    start_probability,\n",
        "    transition_probability,\n",
        "    emission_probability\n",
        ")\n",
        "\n",
        "print(\"c) Aplicando a Solução:\")\n",
        "print(\"A sequência mais provável encontrada com o Viterbi em log-space é a mesma:\")\n",
        "print(f\"  Caminho: {' → '.join(log_seq_path)}\\n\")\n",
        "print(\"Agora podemos calcular a log-probabilidade de 100 repetições:\")\n",
        "log_prob_100_times = log_prob_path * 100\n",
        "print(f\"Log-Probabilidade do caminho mais provável: {log_prob_path:.4f}\")\n",
        "print(f\"Log-Probabilidade de 100 repetições: {log_prob_100_times:.4f}\")\n",
        "print(\"\\nEste valor é um número negativo normal, evitando o underflow.\")\n",
        "print(\"Para ter uma ideia da magnitude, podemos tentar converter de volta:\")\n",
        "print(f\"P(Caminho)^100 = e^({log_prob_100_times:.2f})\")\n",
        "print(\"Este é um número imensamente pequeno, mas que pode ser manipulado em sua forma logarítmica.\")\n",
        "print(\"=\"*60)"
      ],
      "metadata": {
        "colab": {
          "base_uri": "https://localhost:8080/"
        },
        "id": "CHpGKmEqklDW",
        "outputId": "f8f4c18c-0ac0-4022-ec5c-725069719da1"
      },
      "execution_count": 47,
      "outputs": [
        {
          "output_type": "stream",
          "name": "stdout",
          "text": [
            "============================================================\n",
            "1. PARÂMETROS DO MODELO OCULTO DE MARKOV (HMM)\n",
            "============================================================\n",
            "Sequência de Observações: ['C', 'K', 'K', 'C', 'C', 'C', 'C', 'C', 'K', 'C']\n",
            "\n",
            "Estados Ocultos: ('E', 'NE')\n",
            "\n",
            "Probabilidades Iniciais (pi): {'E': 0.8, 'NE': 0.2}\n",
            "\n",
            "Matriz de Transição (A):\n",
            "  De E: {'E': 0.8, 'NE': 0.2}\n",
            "  De NE: {'E': 0.2, 'NE': 0.8}\n",
            "\n",
            "Matriz de Emissão (B):\n",
            "  De E: {'C': 0.5, 'K': 0.5}\n",
            "  De NE: {'C': 0.8, 'K': 0.2}\n",
            "------------------------------------------------------------\n",
            "\n",
            "============================================================\n",
            "2. PROBABILIDADE DA SEQUÊNCIA (ALGORITMO FORWARD)\n",
            "============================================================\n",
            "A probabilidade da sequência ['C', 'K', 'K', 'C', 'C', 'C', 'C', 'C', 'K', 'C'] ocorrer é:\n",
            "P(Sequência) ≈ 0.0019711164\n",
            "Em notação científica: 1.9711e-03\n",
            "\n",
            "============================================================\n",
            "3. SEQUÊNCIA MAIS PROVÁVEL DE MOEDAS (ALGORITMO DE VITERBI)\n",
            "============================================================\n",
            "A sequência de moedas mais provável é:\n",
            "Caminho: E → E → E → NE → NE → NE → NE → NE → NE → NE\n",
            "Probabilidade deste caminho: 1.7592e-04\n",
            "\n",
            "============================================================\n",
            "4. FENÔMENO DE UNDERFLOW E SOLUÇÃO COM LOGARITMOS\n",
            "============================================================\n",
            "a) O Problema do Underflow:\n",
            "Tentando calcular P(Sequência)^100 com ponto flutuante padrão:\n",
            "  (1.9711e-03)^100 = 2.959560904931942e-271\n",
            "O resultado é zero, pois o número é pequeno demais para ser representado.\n",
            "\n",
            "b) A Solução: Trabalhar com Logaritmos:\n",
            "Para evitar o underflow, convertemos as probabilidades para o espaço logarítmico.\n",
            "A multiplicação se torna soma: log(a*b) = log(a) + log(b).\n",
            "A soma se torna uma operação especial chamada LogSumExp: log(a+b) = log(e^log(a) + e^log(b)).\n",
            "\n",
            "c) Aplicando a Solução:\n",
            "A sequência mais provável encontrada com o Viterbi em log-space é a mesma:\n",
            "  Caminho: E → E → E → NE → NE → NE → NE → NE → NE → NE\n",
            "\n",
            "Agora podemos calcular a log-probabilidade de 100 repetições:\n",
            "Log-Probabilidade do caminho mais provável: -8.6455\n",
            "Log-Probabilidade de 100 repetições: -864.5471\n",
            "\n",
            "Este valor é um número negativo normal, evitando o underflow.\n",
            "Para ter uma ideia da magnitude, podemos tentar converter de volta:\n",
            "P(Caminho)^100 = e^(-864.55)\n",
            "Este é um número imensamente pequeno, mas que pode ser manipulado em sua forma logarítmica.\n",
            "============================================================\n"
          ]
        }
      ]
    }
  ],
  "metadata": {
    "colab": {
      "provenance": [],
      "include_colab_link": true
    },
    "kernelspec": {
      "display_name": "Python 3",
      "language": "python",
      "name": "python3"
    },
    "language_info": {
      "codemirror_mode": {
        "name": "ipython",
        "version": 3
      },
      "file_extension": ".py",
      "mimetype": "text/x-python",
      "name": "python",
      "nbconvert_exporter": "python",
      "pygments_lexer": "ipython3",
      "version": "3.7.4"
    }
  },
  "nbformat": 4,
  "nbformat_minor": 0
}