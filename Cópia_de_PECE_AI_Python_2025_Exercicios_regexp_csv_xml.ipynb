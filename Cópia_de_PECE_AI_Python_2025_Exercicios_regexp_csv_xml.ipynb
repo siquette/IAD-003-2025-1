{
  "nbformat": 4,
  "nbformat_minor": 0,
  "metadata": {
    "colab": {
      "provenance": []
    },
    "kernelspec": {
      "name": "python3",
      "display_name": "Python 3"
    }
  },
  "cells": [
    {
      "cell_type": "markdown",
      "metadata": {
        "id": "EzztbdQ_7QVn"
      },
      "source": [
        "# Exercícios em Python 6: Biblioteca padrão python, expressões regulares, csv, xml\n",
        "\n"
      ]
    },
    {
      "cell_type": "markdown",
      "metadata": {
        "id": "u7BDz8O1qaMd"
      },
      "source": [
        "## Preparando o ambiente\n",
        "\n",
        "Execute o código a seguir."
      ]
    },
    {
      "cell_type": "code",
      "metadata": {
        "id": "wo0Ow_IdVgtZ",
        "colab": {
          "base_uri": "https://localhost:8080/"
        },
        "outputId": "d7cc1c10-150b-4305-b08e-3460ce349ae0"
      },
      "source": [
        "!git clone https://gitlab.uspdigital.usp.br/thiago/curso_ai_python.git\n",
        "import sys\n",
        "sys.path.append('curso_ai_python')"
      ],
      "execution_count": 1,
      "outputs": [
        {
          "output_type": "stream",
          "name": "stdout",
          "text": [
            "Cloning into 'curso_ai_python'...\n",
            "remote: Enumerating objects: 92, done.\u001b[K\n",
            "remote: Counting objects: 100% (59/59), done.\u001b[K\n",
            "remote: Compressing objects: 100% (58/58), done.\u001b[K\n",
            "remote: Total 92 (delta 29), reused 0 (delta 0), pack-reused 33 (from 1)\u001b[K\n",
            "Receiving objects: 100% (92/92), 28.45 KiB | 277.00 KiB/s, done.\n",
            "Resolving deltas: 100% (45/45), done.\n"
          ]
        }
      ]
    },
    {
      "cell_type": "markdown",
      "metadata": {
        "id": "Rou0RcBHC-Z3"
      },
      "source": [
        "# Se o bloco acima foi executado corretamente, você deve ver o contéudo do diretório ```curso_ai_pytho`/dados```:"
      ]
    },
    {
      "cell_type": "code",
      "metadata": {
        "id": "r9Q1G0SXu-Ir",
        "colab": {
          "base_uri": "https://localhost:8080/"
        },
        "outputId": "4270b9e7-68d2-468d-8573-5b7be9184b1a"
      },
      "source": [
        "!ls -la curso_ai_python/dados/"
      ],
      "execution_count": 2,
      "outputs": [
        {
          "output_type": "stream",
          "name": "stdout",
          "text": [
            "total 32\n",
            "drwxr-xr-x 2 root root  4096 May 19 13:35 .\n",
            "drwxr-xr-x 5 root root  4096 May 19 13:35 ..\n",
            "-rw-r--r-- 1 root root    20 May 19 13:35 dados01.txt\n",
            "-rw-r--r-- 1 root root    50 May 19 13:35 dados02.txt\n",
            "-rw-r--r-- 1 root root 12633 May 19 13:35 telefones_epusp.txt\n"
          ]
        }
      ]
    },
    {
      "cell_type": "markdown",
      "metadata": {
        "id": "C19XUaGr7SEd"
      },
      "source": [
        "## 6.1 Leitura de dados em CSV\n",
        "\n",
        "O módulo ```csv``` em Python lê arquivos em formato CSV.\n",
        "\n",
        "A função ```csv.DictReader(arquivo)``` retorna uma lista de dicionários, um para cada linha do arquivo.\n",
        "\n",
        "Por exemplo, o código a seguir mostra o total de alunos estrangeiros no município de Araraquara."
      ]
    },
    {
      "cell_type": "code",
      "metadata": {
        "id": "TPb9Y02t8Pdu",
        "colab": {
          "base_uri": "https://localhost:8080/"
        },
        "outputId": "4456ea90-959d-47c5-b863-587bd19dc42a"
      },
      "source": [
        "import urllib.request\n",
        "import csv\n",
        "import io\n",
        "import tempfile\n",
        "import ssl\n",
        "\n",
        "# Suprime verificação de SSL por problemas\n",
        "#  com a ICP Brasil\n",
        "ignorar_ssl = ssl.create_default_context()\n",
        "ignorar_ssl.check_hostname = False\n",
        "ignorar_ssl.verify_mode = ssl.CERT_NONE\n",
        "\n",
        "recurso = urllib.request.urlopen(\"https://dados.educacao.sp.gov.br/node/2054/download\", context=ignorar_ssl)\n",
        "recurso.read(3) # Retira os 3 primeiros bytes do arquivo\n",
        "leitorcsv = csv.DictReader(io.TextIOWrapper(recurso,encoding='utf-8'), delimiter=';')\n",
        "total = 0\n",
        "for entrada in leitorcsv:\n",
        "  if entrada['MUN']=='ARARAQUARA':\n",
        "    total += int(entrada[' Nº ALUNOS '])\n",
        "print(total)"
      ],
      "execution_count": 3,
      "outputs": [
        {
          "output_type": "stream",
          "name": "stdout",
          "text": [
            "50\n"
          ]
        }
      ]
    },
    {
      "cell_type": "code",
      "source": [
        "entrada"
      ],
      "metadata": {
        "id": "YqRrzOiVzqO4",
        "colab": {
          "base_uri": "https://localhost:8080/"
        },
        "outputId": "9dddbdca-4a41-4b39-d66d-4ec4cf27fcfc"
      },
      "execution_count": 4,
      "outputs": [
        {
          "output_type": "execute_result",
          "data": {
            "text/plain": [
              "{'NOMEDEP': 'ESTADUAL - SE',\n",
              " 'DE': 'VOTUPORANGA',\n",
              " 'DISTR': 'VOTUPORANGA',\n",
              " 'MUN': 'VOTUPORANGA',\n",
              " 'TIPOESC': '8',\n",
              " 'COD_ESC': '44167',\n",
              " 'NOMESC': 'ENNY TEREZA LONGO FRACARO PROFA',\n",
              " 'DS_PAIS': 'Venezuela',\n",
              " ' Nº ALUNOS ': ' 9 '}"
            ]
          },
          "metadata": {},
          "execution_count": 4
        }
      ]
    },
    {
      "cell_type": "markdown",
      "source": [],
      "metadata": {
        "id": "TYyYKfaRKcdc"
      }
    },
    {
      "cell_type": "markdown",
      "metadata": {
        "id": "Joc2IWN095be"
      },
      "source": [
        "### Exercício 6.1.1\n",
        "\n",
        "Encontre o total de alunos provenientes do Uruguai matriculados em escolas de SP.\n",
        "O campo que contém o país é o campo com nome ```DS_PAIS```.\n"
      ]
    },
    {
      "cell_type": "code",
      "metadata": {
        "id": "Xb40md5e-iMp",
        "colab": {
          "base_uri": "https://localhost:8080/"
        },
        "outputId": "417f824a-b24a-4334-c6fa-31d486b4a800"
      },
      "source": [
        "import urllib.request\n",
        "import csv\n",
        "import io\n",
        "import ssl\n",
        "\n",
        "# Suprime verificação de SSL por problemas com a ICP Brasil\n",
        "ignorar_ssl = ssl.create_default_context()\n",
        "ignorar_ssl.check_hostname = False\n",
        "ignorar_ssl.verify_mode = ssl.CERT_NONE\n",
        "\n",
        "recurso = urllib.request.urlopen(\"https://dados.educacao.sp.gov.br/node/2054/download\", context=ignorar_ssl)\n",
        "recurso.read(3) # Retira os 3 primeiros bytes do arquivo\n",
        "leitorcsv = csv.DictReader(io.TextIOWrapper(recurso, encoding='utf-8'), delimiter=';')\n",
        "\n",
        "total = 0\n",
        "for entrada in leitorcsv:\n",
        "    if entrada['DS_PAIS'] == 'Uruguai':  # Ajuste para filtrar pelo país\n",
        "        total += int(entrada[' Nº ALUNOS '])\n",
        "\n",
        "print(total)"
      ],
      "execution_count": 5,
      "outputs": [
        {
          "output_type": "stream",
          "name": "stdout",
          "text": [
            "18\n"
          ]
        }
      ]
    },
    {
      "cell_type": "markdown",
      "metadata": {
        "id": "2GwIplbx-rdV"
      },
      "source": [
        "A resposta deve ser 18"
      ]
    },
    {
      "cell_type": "markdown",
      "metadata": {
        "id": "YGQ4IlzYAcfH"
      },
      "source": [
        "### Exercício 6.1.2\n",
        "\n",
        "Quantos *distritos* distintos de escolas existem nesta lista? O campo que contém o tipo é ```DISTR```.\n",
        "Qual o tipo com a maior quantidade de alunos?\n",
        "\n",
        "Sugestão: Crie um dicionário.\n"
      ]
    },
    {
      "cell_type": "code",
      "metadata": {
        "id": "ZVbV7GhNA3HX",
        "colab": {
          "base_uri": "https://localhost:8080/"
        },
        "outputId": "3589dae2-de5c-4d67-9f66-ee380a7521f5"
      },
      "source": [
        "\n",
        "import pandas as pd\n",
        "\n",
        "\n",
        "recurso = urllib.request.urlopen(\"https://dados.educacao.sp.gov.br/node/2054/download\", context=ignorar_ssl)\n",
        "recurso.read(3) # Retira os 3 primeiros bytes do arquivo\n",
        "leitorcsv = csv.DictReader(io.TextIOWrapper(recurso, encoding='utf-8'), delimiter=';')\n",
        "\n",
        "# Cria o DataFrame diretamente do DictReader\n",
        "df = pd.DataFrame(leitorcsv)\n",
        "\n",
        "\n",
        "# Exemplo: Calcular a quantidade de alunos por distrito\n",
        "alunos_por_distrito = df.groupby('DISTR')[' Nº ALUNOS '].transform(lambda x: pd.to_numeric(x, errors='coerce')).groupby(df['DISTR']).sum()\n",
        "print(\"\\nQuantidade de alunos por distrito:\")\n",
        "print(alunos_por_distrito)\n",
        "\n",
        "# Exemplo: Quantidade de distritos distintos\n",
        "num_distritos_distintos = alunos_por_distrito.nunique()\n",
        "print(f\"\\nQuantidade de distritos distintos: {num_distritos_distintos}\")\n",
        "\n",
        "# Exemplo: Distrito com a maior quantidade de alunos\n",
        "distrito_mais_alunos = alunos_por_distrito.idxmax()\n",
        "maior_quantidade = alunos_por_distrito.max()\n",
        "print(f\"\\nDistrito com a maior quantidade de alunos: {distrito_mais_alunos} com {maior_quantidade} alunos\")"
      ],
      "execution_count": 6,
      "outputs": [
        {
          "output_type": "stream",
          "name": "stdout",
          "text": [
            "\n",
            "Quantidade de alunos por distrito:\n",
            "DISTR\n",
            "ADAMANTINA                 11\n",
            "AGUA RASA                 131\n",
            "AGUAI                       1\n",
            "AGUAS DE LINDOIA            1\n",
            "AGUAS DE SANTA BARBARA      1\n",
            "                         ... \n",
            "VILA SONIA                 18\n",
            "VILA XAVIER                10\n",
            "VINHEDO                    11\n",
            "VOTORANTIM                 35\n",
            "VOTUPORANGA                19\n",
            "Name:  Nº ALUNOS , Length: 419, dtype: int64\n",
            "\n",
            "Quantidade de distritos distintos: 115\n",
            "\n",
            "Distrito com a maior quantidade de alunos: VILA MARIA com 642 alunos\n"
          ]
        }
      ]
    },
    {
      "cell_type": "markdown",
      "metadata": {
        "id": "8kqYVJj5H3Lo"
      },
      "source": [
        "A resposta deve ser 419 distritos distintos. O tipo com a maior quantidade é o ```VILA MARIA``` com 642 alunos."
      ]
    },
    {
      "cell_type": "markdown",
      "metadata": {
        "id": "q2PK9MPfBUC4"
      },
      "source": [
        "## 6.2 Processamento de XML\n",
        "\n",
        "A url ```https://olinda.bcb.gov.br/olinda/servico/PTAX/versao/v1/odata/CotacaoDolarDia(dataCotacao=@dataCotacao)?@dataCotacao='04-23-2020'&$top=100&$format=xml&$select=cotacaoCompra,cotacaoVenda,dataHoraCotacao``` recupera o relatório de cotação do dólar do Banco central em formato xml e grava-o no arquivo cotacao_dolar.xml.\n",
        "\n"
      ]
    },
    {
      "cell_type": "code",
      "metadata": {
        "id": "v031QrXFCSJq"
      },
      "source": [
        "req=urllib.request.urlopen(\"https://olinda.bcb.gov.br/olinda/servico/PTAX/versao/v1/odata/CotacaoDolarPeriodo(dataInicial=@dataInicial,dataFinalCotacao=@dataFinalCotacao)?@dataInicial='01-01-2024'&@dataFinalCotacao='05-03-2024'&$top=200&$format=xml&$select=cotacaoCompra,cotacaoVenda,dataHoraCotacao\")\n",
        "ff = open(\"cotacao_dolar.xml\", \"wb\")\n",
        "ff.write(req.read())\n",
        "ff.close()"
      ],
      "execution_count": 7,
      "outputs": []
    },
    {
      "cell_type": "markdown",
      "metadata": {
        "id": "qv_dIOsSDEUm"
      },
      "source": [
        "\n",
        "\n",
        "O código abaixo usa xml para encontrar o valor da cotação no dia 17/03/2024"
      ]
    },
    {
      "cell_type": "code",
      "metadata": {
        "id": "KZcC5vMsD3yW",
        "colab": {
          "base_uri": "https://localhost:8080/"
        },
        "outputId": "3a771435-347e-426b-c1bf-1cc8a3e1fa87"
      },
      "source": [
        "import xml.etree.ElementTree\n",
        "raiz = xml.etree.ElementTree.parse(\"cotacao_dolar.xml\").getroot()\n",
        "for el in raiz.iter('{http://docs.oasis-open.org/odata/ns/metadata}properties'):\n",
        "  hora = el.find('{http://docs.oasis-open.org/odata/ns/data}dataHoraCotacao')\n",
        "  if hora.text.startswith('2024-05-02'):\n",
        "    no_venda = el.find('{http://docs.oasis-open.org/odata/ns/data}cotacaoVenda')\n",
        "    valor = float(no_venda.text)\n",
        "    print(valor)\n",
        "\n"
      ],
      "execution_count": 8,
      "outputs": [
        {
          "output_type": "stream",
          "name": "stdout",
          "text": [
            "5.1184\n"
          ]
        }
      ]
    },
    {
      "cell_type": "markdown",
      "metadata": {
        "id": "HwtS70WnHJi4"
      },
      "source": [
        "Exercício:\n",
        "\n",
        "Encontre o *menor* valor de cotação do dólar para venda (campo com etiqueta ```{http://docs.oasis-open.org/odata/ns/data}cotacaoVenda'```).\n",
        "\n",
        "Você deve encontrar 4.8543"
      ]
    },
    {
      "cell_type": "code",
      "metadata": {
        "id": "Z1boMcqO4WAt",
        "colab": {
          "base_uri": "https://localhost:8080/"
        },
        "outputId": "cd35b8d7-f82d-414b-bf14-ee189541d8b5"
      },
      "source": [
        "import urllib.request\n",
        "import pandas as pd\n",
        "import xml.etree.ElementTree as ET\n",
        "\n",
        "# URL para obter a cotação do dólar no período especificado em XML\n",
        "url = \"https://olinda.bcb.gov.br/olinda/servico/PTAX/versao/v1/odata/CotacaoDolarPeriodo(dataInicial=@dataInicial,dataFinalCotacao=@dataFinalCotacao)?@dataInicial='01-01-2024'&@dataFinalCotacao='05-03-2024'&$top=200&$format=xml&$select=cotacaoCompra,cotacaoVenda,dataHoraCotacao\"\n",
        "\n",
        "# Faz a requisição e lê o conteúdo XML\n",
        "req = urllib.request.urlopen(url)\n",
        "xml_content = req.read()\n",
        "\n",
        "# Salva o conteúdo XML em um arquivo (opcional, mas útil para inspeção)\n",
        "with open(\"cotacao_dolar.xml\", \"wb\") as f:\n",
        "    f.write(xml_content)\n",
        "\n",
        "# Analisa o XML usando ElementTree\n",
        "root = ET.fromstring(xml_content)\n",
        "\n",
        "# Define os namespaces para facilitar a busca\n",
        "namespaces = {\n",
        "    'md': 'http://docs.oasis-open.org/odata/ns/metadata',\n",
        "    'd': 'http://docs.oasis-open.org/odata/ns/data'\n",
        "}\n",
        "\n",
        "# Extrai os dados relevantes para uma lista de dicionários\n",
        "data = []\n",
        "for entry in root.findall('.//md:properties', namespaces):\n",
        "    cotacao_compra = entry.find('d:cotacaoCompra', namespaces).text\n",
        "    cotacao_venda = entry.find('d:cotacaoVenda', namespaces).text\n",
        "    data_hora_cotacao = entry.find('d:dataHoraCotacao', namespaces).text\n",
        "    data.append({\n",
        "        'cotacaoCompra': float(cotacao_compra),\n",
        "        'cotacaoVenda': float(cotacao_venda),\n",
        "        'dataHoraCotacao': data_hora_cotacao\n",
        "    })\n",
        "\n",
        "# Cria o DataFrame pandas\n",
        "df_cotacao = pd.DataFrame(data)\n",
        "\n",
        "# Encontra o menor valor da cotação de venda\n",
        "menor_cotacao_venda = df_cotacao['cotacaoVenda'].min()\n",
        "\n",
        "print(\"DataFrame com as cotações do dólar:\")\n",
        "print(df_cotacao)\n",
        "print(f\"\\nO menor valor de cotação do dólar para venda é: {menor_cotacao_venda}\")"
      ],
      "execution_count": 9,
      "outputs": [
        {
          "output_type": "stream",
          "name": "stdout",
          "text": [
            "DataFrame com as cotações do dólar:\n",
            "    cotacaoCompra  cotacaoVenda          dataHoraCotacao\n",
            "0          4.8910        4.8916  2024-01-02 13:05:50.319\n",
            "1          4.9206        4.9212  2024-01-03 13:14:41.153\n",
            "2          4.9182        4.9188  2024-01-04 13:05:35.048\n",
            "3          4.8893        4.8899  2024-01-05 13:10:31.843\n",
            "4          4.8844        4.8850   2024-01-08 13:11:30.76\n",
            "..            ...           ...                      ...\n",
            "80         5.1178        5.1184  2024-04-26 15:44:48.581\n",
            "81         5.1149        5.1155  2024-04-29 13:08:20.023\n",
            "82         5.1712        5.1718  2024-04-30 13:09:37.423\n",
            "83         5.1178        5.1184  2024-05-02 13:07:09.245\n",
            "84         5.0662        5.0668  2024-05-03 13:06:33.607\n",
            "\n",
            "[85 rows x 3 columns]\n",
            "\n",
            "O menor valor de cotação do dólar para venda é: 4.8543\n"
          ]
        }
      ]
    },
    {
      "cell_type": "markdown",
      "metadata": {
        "id": "Y3fBoXFSHrAe"
      },
      "source": [
        "A resposta deve ser 4.8543"
      ]
    },
    {
      "cell_type": "markdown",
      "metadata": {
        "id": "bdTCDbolwdYj"
      },
      "source": [
        "## 5.3  Expressões Regulares\n",
        "\n",
        "A linguagem Python tem uma biblioteca de expressões regulares.\n",
        "\n",
        "A função ```re.search(exp, string)``` verifica se uma string é aderente a um determinado padrão.\n",
        "\n",
        "### Exercícios:\n",
        "\n",
        "O arquivo em ```/content/gdrive/My Drive/cursoai_python_aula_03/dados/telefones_epusp.txt``` contém uma lista telefônica em um texto não-estruturado com telefones úteis da escola politécnica.\n",
        "\n",
        "Eis o conteúdo de suas 10 primeiras linhas:"
      ]
    },
    {
      "cell_type": "code",
      "metadata": {
        "id": "VBQEHIv0wtR2",
        "colab": {
          "base_uri": "https://localhost:8080/"
        },
        "outputId": "910827b8-ef2e-424d-c9cb-410318c3a931"
      },
      "source": [
        "arquivo = open(\"/content/curso_ai_python/dados/telefones_epusp.txt\", \"rt\")\n",
        "for i in range(10):\n",
        "  print(arquivo.readline())\n",
        "arquivo.close()"
      ],
      "execution_count": 10,
      "outputs": [
        {
          "output_type": "stream",
          "name": "stdout",
          "text": [
            "Diretoria\n",
            "\n",
            "Profa. Dra. Liedi Legi Bariani Bernucci\n",
            "\n",
            "Diretora \t3091 5221 / 5223 / 5550\n",
            "\n",
            "Prof. Reinaldo Giudici\n",
            "\n",
            "Vice-Diretor\n",
            "\n",
            "Secretaria: Sueli Rossetti / Ângela de Jesus\n",
            "\n",
            "Serviço Técnico de Planejamento e Gestão\n",
            "\n",
            "Enaége Dalan Sant´Ana \t3091 5534\n",
            "\n",
            "Seção Técnica de Qualidade e Processos\n",
            "\n",
            "Patricia Sandes \t3091 5577\n",
            "\n"
          ]
        }
      ]
    },
    {
      "cell_type": "markdown",
      "metadata": {
        "id": "ziJy9Y-O6zx9"
      },
      "source": [
        "### 5.3.1 Conte o número de linhas com telefones\n",
        "\n",
        "A expressão regular ```([0-9]+([\\s-]+[0-9]+)*)(\\s?/\\s?([0-9]+([\\s-]+[0-9]+)*))*$``` casa com um ou mais números de telefone *ao final de uma linha*.\n",
        "\n",
        "Verifique usando o módulo re quantas linhas atendem este padrão.\n",
        "Você deve encontrar 255 números."
      ]
    },
    {
      "cell_type": "code",
      "metadata": {
        "id": "caR8jzJM6wUx",
        "colab": {
          "base_uri": "https://localhost:8080/"
        },
        "outputId": "e7f8dc4f-e61b-4a38-afe2-780c6c3ac7bf"
      },
      "source": [
        "import re\n",
        "\n",
        "# Abre o arquivo\n",
        "arquivo = open(\"/content/curso_ai_python/dados/telefones_epusp.txt\", \"rt\")\n",
        "\n",
        "# Expressão regular\n",
        "padrao = r\"([0-9]+([\\s-]+[0-9]+)*)(\\s?/\\s?([0-9]+([\\s-]+[0-9]+)*))*$\"\n",
        "\n",
        "# Contador\n",
        "contador = 0\n",
        "\n",
        "# Percorre cada linha e verifica se ela casa com o padrão\n",
        "for linha in arquivo:\n",
        "    if re.search(padrao, linha):\n",
        "        contador += 1\n",
        "\n",
        "arquivo.close()\n",
        "\n",
        "# Exibe o resultado\n",
        "print(f\"Número de linhas com telefones: {contador}\")\n"
      ],
      "execution_count": 12,
      "outputs": [
        {
          "output_type": "stream",
          "name": "stdout",
          "text": [
            "Número de linhas com telefones: 255\n"
          ]
        }
      ]
    }
  ]
}