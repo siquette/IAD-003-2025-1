{
  "cells": [
    {
      "cell_type": "markdown",
      "metadata": {
        "id": "EzztbdQ_7QVn"
      },
      "source": [
        "# Exercícios em Python 2: Orientação a Objetos\n",
        "\n",
        "\n",
        "\n",
        "\n",
        "Neste exercício trabalharemos com aspectos da linguagem Python voltados à orientação a objeto."
      ]
    },
    {
      "cell_type": "markdown",
      "metadata": {
        "id": "u7BDz8O1qaMd"
      },
      "source": [
        "## Preparando o ambiente\n",
        "\n",
        "Este notebook usa códigos no pacote ceai_python_aula04.py.\n",
        "Verifique se o seu google drive contém a pasta cursoai_python_aula_04.\n",
        "\n",
        "Em seguida execute o código a seguir."
      ]
    },
    {
      "cell_type": "code",
      "execution_count": null,
      "metadata": {
        "colab": {
          "base_uri": "https://localhost:8080/"
        },
        "id": "wo0Ow_IdVgtZ",
        "outputId": "9815d623-be37-4abf-af12-95c22ac2b36d"
      },
      "outputs": [
        {
          "ename": "",
          "evalue": "",
          "output_type": "error",
          "traceback": [
            "\u001b[1;31mA execução de células com 'Python 3.13.2' requer o pacote ipykernel.\n",
            "\u001b[1;31mExecute o seguinte comando para instalar \"ipykernel\" no ambiente do Python. \n",
            "\u001b[1;31mComando: \"\"c:/Users/Vivian - H2R/AppData/Local/Microsoft/WindowsApps/python3.13.exe\" -m pip install ipykernel -U --user --force-reinstall\""
          ]
        }
      ],
      "source": [
        "!git clone https://github.com/Dr-Zero/curso_ai_python.git\n",
        "import sys\n",
        "sys.path.append('curso_ai_python')"
      ]
    },
    {
      "cell_type": "markdown",
      "metadata": {},
      "source": []
    },
    {
      "cell_type": "markdown",
      "metadata": {
        "id": "Rou0RcBHC-Z3"
      },
      "source": [
        "Se o bloco acima foi executado corretamente, importe os símbolos com a linha seguinte:"
      ]
    },
    {
      "cell_type": "code",
      "execution_count": null,
      "metadata": {
        "colab": {
          "base_uri": "https://localhost:8080/"
        },
        "id": "r9Q1G0SXu-Ir",
        "outputId": "99dfee46-adbb-439b-b381-c7557834ee46"
      },
      "outputs": [],
      "source": [
        "import ceai_python_aula04\n",
        "from ceai_python_aula04 import ClasseExemplo_01"
      ]
    },
    {
      "cell_type": "markdown",
      "metadata": {
        "id": "c9yjgYOO8aAd"
      },
      "source": [
        "# 1. Criação de instâncias de classes\n",
        "\n",
        "Em Python uma *instância* é um objeto criado a partir de uma classe e herda desta funções que ficam diretamente vinculados a ele (tornando-se então *métodos*).\n",
        "\n",
        "Estas instâncias são criadas invocando-se o nome da classe como se este fosse uma função.\n",
        "\n",
        "Por exemplo, seja a classe:\n",
        "```\n",
        "class ClasseExemplo_01:\n",
        "  def atribui_valor(self, x):\n",
        "    self._valor = x\n",
        "\n",
        "  def recupera_valor(self):\n",
        "    return self._valor\n",
        "```\n",
        "\n",
        "Um novo objeto desta classe (declarada no módulo acima) é criado com o código\n",
        "```\n",
        "ClasseExemplo_01()\n",
        "```\n",
        "## Exercício 1.1\n",
        "Inicialize a variável `a` com um novo objeto da classe `ClasseExemplo_01`\n"
      ]
    },
    {
      "cell_type": "code",
      "execution_count": null,
      "metadata": {
        "id": "EYrZjy887a4F"
      },
      "outputs": [],
      "source": [
        "a = ClasseExemplo_01()"
      ]
    },
    {
      "cell_type": "markdown",
      "metadata": {
        "id": "h8tTUeY-e8KH"
      },
      "source": [
        "Teste sua resposta:"
      ]
    },
    {
      "cell_type": "code",
      "execution_count": null,
      "metadata": {
        "colab": {
          "base_uri": "https://localhost:8080/",
          "height": 40
        },
        "id": "KFpTeA8Ue9RD",
        "outputId": "8918d043-a535-4cd3-c6ab-ab72d1627473"
      },
      "outputs": [],
      "source": [
        "ceai_python_aula04.valida_ex_01_01(a)"
      ]
    },
    {
      "cell_type": "markdown",
      "metadata": {
        "id": "wxk0WlgC7hVa"
      },
      "source": [
        "# 2 Chamada a métodos\n",
        "\n",
        "Um objeto instância tem vinculado a si as funções declaradas no corpo de sua classe.\n",
        "A estas funções vinculadas é dado o nome de *métodos*.\n",
        "Esta vinculação é feita de modo que o *primeiro* parâmetro de cada função recebe automaticamente uma referência para o objeto.\n",
        "\n",
        "Na classe exemplo acima, há dois métodos, `atribui_valor` e `recupera_valor`.\n",
        "Estes métodos modificam o conteúdo da referência `_valor` contida em cada instância.\n",
        "\n",
        "O exemplo a seguir cria um objeto da classe `ClasseExemplo_01` e atribui 10 ao atributo `_valor`."
      ]
    },
    {
      "cell_type": "code",
      "execution_count": null,
      "metadata": {
        "colab": {
          "base_uri": "https://localhost:8080/"
        },
        "id": "HP2r-UpSJazh",
        "outputId": "863fa48f-8c3d-4c35-d92c-e97a6e67bab0"
      },
      "outputs": [],
      "source": [
        "a = ClasseExemplo_01()\n",
        "a.atribui_valor(10)\n",
        "print(a.recupera_valor())"
      ]
    },
    {
      "cell_type": "markdown",
      "metadata": {
        "id": "gzL3fOpJTcd7"
      },
      "source": [
        "Note que o código acima *jamais* acessa diretamente o atributo `_valor`.\n",
        "Existe uma convenção em python de que atributos (inclusive métodos) iniciados pelo caractere `_` jamais devem referenciados por código que está fora das classes dos objetos que os contém.\n",
        "\n",
        "## Exercício 2.1\n",
        "Escreva em Python uma função que recebe um objeto com os métodos da classe `ClasseExemplo_01` e *dobra* o valor nele armazenado ."
      ]
    },
    {
      "cell_type": "code",
      "execution_count": null,
      "metadata": {
        "id": "cg-ChQz4TeQ2"
      },
      "outputs": [],
      "source": [
        "def dobra_valor(a):\n",
        "\n",
        "    valor_atual = a.recupera_valor()\n",
        "    novo_valor = valor_atual * 2\n",
        "    a.atribui_valor(novo_valor)"
      ]
    },
    {
      "cell_type": "markdown",
      "metadata": {
        "id": "ZfjprVLSD70_"
      },
      "source": [
        "Teste a sua resposta:"
      ]
    },
    {
      "cell_type": "code",
      "execution_count": null,
      "metadata": {
        "colab": {
          "base_uri": "https://localhost:8080/",
          "height": 40
        },
        "id": "XGKhduI4D-Dj",
        "outputId": "81d224ed-cb15-44fa-d2e6-8d94c546d388"
      },
      "outputs": [],
      "source": [
        "ceai_python_aula04.valida_ex_02_01(dobra_valor)"
      ]
    },
    {
      "cell_type": "markdown",
      "metadata": {
        "id": "RMi_z5lV-rSe"
      },
      "source": [
        "# 3 Declaração de classes\n",
        "\n",
        "# 3.1 Corpo da classe\n",
        "Uma classe, como no exemplo acima, é declarada da seguinte forma:\n",
        "\n",
        "```\n",
        "class Classe():\n",
        "   # Corpo da classe\n",
        "```\n",
        "Todos os símbolos (variáveis e funções) declarados *dentro* do corpo da classe ficam restritos ao seu escopo.\n",
        "\n",
        "Por exemplo:"
      ]
    },
    {
      "cell_type": "code",
      "execution_count": null,
      "metadata": {
        "colab": {
          "base_uri": "https://localhost:8080/"
        },
        "id": "SJmBkBgjLK5C",
        "outputId": "2c6b9ff9-7854-4ea8-f5c0-f0f744b67435"
      },
      "outputs": [],
      "source": [
        "mensagem = \"Olá\"\n",
        "def saudacao():\n",
        "  print(mensagem)\n",
        "\n",
        "class Classe():\n",
        "  mensagem = \"Adeus\"\n",
        "  @classmethod\n",
        "  def saudacao(cls):\n",
        "    print(cls.mensagem)\n",
        "\n",
        "saudacao()\n",
        "Classe.saudacao()"
      ]
    },
    {
      "cell_type": "markdown",
      "metadata": {
        "id": "Sd5YH5iVd-56"
      },
      "source": [
        "Note que o método ```saudacao``` está marcado com o decorador ```@classmethod```.\n",
        "Este decorador indica ao *runtime* da linguagem Python que este método não está vinculado a nenhum objeto em particular da classe ```Classe``` e age diretamente sobre ela mesma.\n",
        "\n",
        "Nós veremos mais sobre decoradores mais adiante no curso.\n",
        "Por hora pense nele como um indicador de algum atributo especial para o método ```saudacao```.\n",
        "\n",
        "O parâmetro ```cls``` dentro do método recebe uma referência ao objeto que representa a classe ```Classe```.\n",
        "Note que este atributo é automaticamente vinculado à classe, de modo que na chamada em ```Classe.saudacao()``` nenhum parâmetro é passado explicitamente."
      ]
    },
    {
      "cell_type": "markdown",
      "metadata": {
        "id": "FnLg-RmjNnP-"
      },
      "source": [
        "# Exercício 3.1.1\n",
        "\n",
        "Declare uma classe com o atributo `numero` contendo inicialmente valor 0. A classe também deve conter a função `funcao_1`, que retorna o valor armazenado em `numero` e `funcao_2`, que reseta o valor em `numero` para zero.\n",
        "\n",
        "*Atenção*: Os atributos e funções declaradas devem ser, como no exemplo acima, atributos e funções *de classe*, e não atrelados a algum objeto específico!"
      ]
    },
    {
      "cell_type": "code",
      "execution_count": null,
      "metadata": {
        "id": "zolW7K0zN3a-"
      },
      "outputs": [],
      "source": [
        "class MinhaClasse:\n",
        "    numero = 0\n",
        "\n",
        "    @classmethod\n",
        "    def funcao_1(cls):\n",
        "\n",
        "        return cls.numero\n",
        "\n",
        "    @classmethod\n",
        "    def funcao_2(cls):\n",
        "\n",
        "        cls.numero = 0\n",
        "\n"
      ]
    },
    {
      "cell_type": "markdown",
      "metadata": {
        "id": "u2PI-q2WOByo"
      },
      "source": [
        "Teste a sua resposta:"
      ]
    },
    {
      "cell_type": "code",
      "execution_count": null,
      "metadata": {
        "colab": {
          "base_uri": "https://localhost:8080/",
          "height": 40
        },
        "id": "ekVKzH_pOFGT",
        "outputId": "a99d85f9-6d81-4968-c09b-b71b5a3fe761"
      },
      "outputs": [],
      "source": [
        "ceai_python_aula04.valida_ex_03_01(MinhaClasse)"
      ]
    },
    {
      "cell_type": "markdown",
      "metadata": {
        "id": "CC9d64jmL2bq"
      },
      "source": [
        "## 3.2 Inicialização de objetos de instância\n",
        "Note que no exemplo acima, a própria classe é tratada como um Objeto!\n",
        "O uso mais comum de classes, no entanto, é o de criação de *objetos de instância*.\n",
        "\n",
        "Estes objetos, como vistos na seção 1, são criados chamando-se o nome da classe como na chamada de uma função.\n",
        "\n",
        "É possível especificar um código especial executado quando o objeto de instância é criado, através da definição do método `__init__` (note como este nome *inicia-se* e *termina* por \"`__`\".\n",
        "Isso significa que este método, além de não dever ser referenciado diretamente, é um método *especial* para Python, ao qual o interpretador dá um significado específico.\n",
        "\n",
        "A sintaxe de uma classe que define um método de inicialização é a seguinte:\n",
        "\n",
        "```\n",
        "class Classe():\n",
        "  def __init__(self, parametro1, parametro2...):\n",
        "    # Código de inicialização.\n",
        "    # Neste ponto, self é uma referência ao objeto sendo criado\n",
        "```\n",
        "\n",
        "Neste caso, o objeto de instância é criado com `Classe(parametro1, parametro2...)` com tantos parâmetros quando os que se seguem a `self` na definição de `__init__`.\n",
        "Como em outros métodos, `self` recebe a referência ao objeto de instância (que neste caso está sendo criado).\n",
        "\n"
      ]
    },
    {
      "cell_type": "markdown",
      "metadata": {
        "id": "hYanUE_uePiH"
      },
      "source": [
        "## Exercício 3.2.1\n",
        "Declare uma classe que armazena em seu objeto de instância um valor durante a inicialização.\n",
        "Este valor será passado como 2o parâmetro da função `__init__` (como visto, o 1o parâmetro é o próprio objeto sendo construído).\n",
        "\n",
        "Esta classe deve declarar um método `recupera_valor` que torna-se um *método de instância* (então você *não* deve marcá-lo com o decorador `@classmethod`). Este método deve retornar o valor que foi armazenado durante a criação do objeto."
      ]
    },
    {
      "cell_type": "code",
      "execution_count": null,
      "metadata": {
        "id": "ZoTx_Au6szC7"
      },
      "outputs": [],
      "source": [
        "class MinhaNovaClasse:\n",
        "    def __init__(self, valor):\n",
        "\n",
        "        self._valor = valor\n",
        "    def recupera_valor(self):\n",
        "\n",
        "        return self._valor"
      ]
    },
    {
      "cell_type": "markdown",
      "metadata": {
        "id": "bSn8AO7TTjhW"
      },
      "source": [
        "Teste sua resposta:"
      ]
    },
    {
      "cell_type": "code",
      "execution_count": null,
      "metadata": {
        "colab": {
          "base_uri": "https://localhost:8080/",
          "height": 40
        },
        "id": "bVj-XqM_TnQu",
        "outputId": "3917ef4d-fb86-4f7b-ec05-6c791552b3e0"
      },
      "outputs": [],
      "source": [
        "ceai_python_aula04.valida_ex_03_02_01(MinhaNovaClasse)"
      ]
    },
    {
      "cell_type": "markdown",
      "metadata": {
        "id": "-V9V5HeStrQh"
      },
      "source": [
        "# 3.3 Herança\n",
        "\n",
        "\n",
        "É possível escrever uma classe que *extende* o funcionamento de outra classe preexistente.\n",
        "\n",
        "Note que a nova classe e suas instâncias herdarão o comportamento da classe base.\n",
        "Espera-se da nova classe que *mantenha* este funcionamento da classe base em adição às novas funções.\n",
        "\n",
        "A sintaxe para tal extensão é:\n",
        "```\n",
        "class ClasseFilha(ClasseMae):\n",
        "  # novos elementos\n",
        "```\n",
        "\n",
        "## Exercício 3.3.1\n",
        "Extenda a classe `MinhaNovaClasse` definida no exercício 3.2.1.\n",
        "\n",
        "A nova classe deve ser chamada de `MinhaClasseFilha` e deve ser derivada de `MinhaNovaClasse`.\n",
        "\n",
        "A nova classe deve possuir o método *de instância* `modifica_valor`. Este método recebe um parâmetro e atribuir este parâmetro ao valor armazenado no objeto, de modo que o código a seguir:\n",
        "\n",
        "```\n",
        "a = MinhaClasseFilha(10)\n",
        "a.modifica_valor(20)\n",
        "print(a.recupera_valor())\n",
        "```\n",
        "mostra `20`.\n"
      ]
    },
    {
      "cell_type": "code",
      "execution_count": null,
      "metadata": {
        "id": "Yrd9Eonavl4s"
      },
      "outputs": [],
      "source": [
        "class MinhaClasseFilha(MinhaNovaClasse):\n",
        "    def modifica_valor(self, novo_valor):\n",
        "\n",
        "        self._valor = novo_valor"
      ]
    },
    {
      "cell_type": "markdown",
      "metadata": {
        "id": "NGI8ZB2LTsbw"
      },
      "source": [
        "Teste sua resposta:"
      ]
    },
    {
      "cell_type": "code",
      "execution_count": null,
      "metadata": {
        "colab": {
          "base_uri": "https://localhost:8080/",
          "height": 40
        },
        "id": "r8YcQ4yRTuA5",
        "outputId": "116941f0-4a0d-4698-f4ae-761dc21ede4f"
      },
      "outputs": [],
      "source": [
        "ceai_python_aula04.valida_ex_03_03_01(MinhaClasseFilha, MinhaNovaClasse)"
      ]
    },
    {
      "cell_type": "markdown",
      "metadata": {
        "id": "ulSVX8vyvs8A"
      },
      "source": [
        "## 3.4 Sobreposição de métodos\n",
        "\n",
        "Quando dentro do corpo da nova classe é declarado um atributo cujo nome *coincide* com um atributo preexistente na classe base, o atributo preexistente é *sobreposto*.\n",
        "Neste caso, o nome quando acessado pela nova classe e pelas suas instâncias será referente ao novo atributo.\n",
        "\n",
        "Dentro de um método, a função super() permite obter uma referência ao próprio objeto como se este fosse uma instância da classe parente (permitindo assim acessar os métodos que foram sobrepostos).\n",
        "Exemplo:"
      ]
    },
    {
      "cell_type": "code",
      "execution_count": null,
      "metadata": {
        "colab": {
          "base_uri": "https://localhost:8080/"
        },
        "id": "RwJyVzxtnsES",
        "outputId": "2e1d4492-6a54-4a2a-e5fb-6a4c46705910"
      },
      "outputs": [],
      "source": [
        "class Saudacao():\n",
        "  def msg(self):\n",
        "    print(\"Olá\")\n",
        "\n",
        "class Despedida(Saudacao):\n",
        "  def msg(self):\n",
        "    super().msg()\n",
        "    print(\"adeus\")\n",
        "\n",
        "a = Despedida()\n",
        "a.msg()"
      ]
    },
    {
      "cell_type": "markdown",
      "metadata": {
        "id": "RyxoQ5_xorjl"
      },
      "source": [
        "### Exercício 3.4.1\n",
        "\n",
        "Extenda a sua classe do exercício anterior de modo a dar aos objetos criados um método `undo()`\n",
        "\n",
        "Este método deve *reverter* a última (e somente esta, não se preocupe em armazenar operações mais antigas) operação  de `modifica_valor`.\n",
        "Para tanto você deve criar um novo método e *sobrepor* o método `modifica_valor` da classe anterior.\n"
      ]
    },
    {
      "cell_type": "code",
      "execution_count": null,
      "metadata": {
        "id": "Fpv90MY8xAhw"
      },
      "outputs": [],
      "source": [
        "class ClasseComUndo(MinhaClasseFilha):\n",
        "    def __init__(self, valor):\n",
        "        super().__init__(valor)\n",
        "        self._valor_anterior = valor\n",
        "\n",
        "    def modifica_valor(self, novo_valor):\n",
        "\n",
        "        self._valor_anterior = self._valor\n",
        "        super().modifica_valor(novo_valor)\n",
        "    def undo(self):\n",
        "\n",
        "        self._valor, self._valor_anterior = self._valor_anterior, self._valor"
      ]
    },
    {
      "cell_type": "markdown",
      "metadata": {
        "id": "VXBIIYH3elMa"
      },
      "source": [
        "Teste sua resposta:"
      ]
    },
    {
      "cell_type": "code",
      "execution_count": null,
      "metadata": {
        "colab": {
          "base_uri": "https://localhost:8080/",
          "height": 40
        },
        "id": "YmFLR8ueeml0",
        "outputId": "6891fb2a-3b0e-46cb-d9c0-522ba64320d3"
      },
      "outputs": [],
      "source": [
        "ceai_python_aula04.valida_ex_03_04_01(ClasseComUndo, MinhaClasseFilha)"
      ]
    }
  ],
  "metadata": {
    "colab": {
      "provenance": []
    },
    "kernelspec": {
      "display_name": "Python 3",
      "name": "python3"
    },
    "language_info": {
      "name": "python",
      "version": "3.13.2"
    }
  },
  "nbformat": 4,
  "nbformat_minor": 0
}
