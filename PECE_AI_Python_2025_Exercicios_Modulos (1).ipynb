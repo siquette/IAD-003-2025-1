{
  "nbformat": 4,
  "nbformat_minor": 0,
  "metadata": {
    "colab": {
      "provenance": []
    },
    "kernelspec": {
      "name": "python3",
      "display_name": "Python 3"
    }
  },
  "cells": [
    {
      "cell_type": "markdown",
      "metadata": {
        "id": "EzztbdQ_7QVn"
      },
      "source": [
        "# Exercícios em Python 4: Módulos e Pacotes\n"
      ]
    },
    {
      "cell_type": "markdown",
      "metadata": {
        "id": "u7BDz8O1qaMd"
      },
      "source": [
        "## Preparando o ambiente\n",
        "\n",
        "Este notebook usa códigos no pacote ceai_python_aula04.py.\n",
        "Verifique se o seu google drive contém a pasta cursoai_python_aula_04.\n",
        "\n",
        "Em seguida execute o código a seguir."
      ]
    },
    {
      "cell_type": "code",
      "metadata": {
        "id": "wo0Ow_IdVgtZ",
        "outputId": "ea763d10-9554-4b15-f227-ae145dc2cb70",
        "colab": {
          "base_uri": "https://localhost:8080/"
        }
      },
      "source": [
        "!git clone https://gitlab.uspdigital.usp.br/thiago/curso_ai_python.git\n",
        "import sys\n",
        "import importlib\n",
        "sys.path.append('curso_ai_python')\n",
        "sys.path.append('curso_ai_python/modulos_aula_06')\n",
        "sys.path.append('/content/gdrive/MyDrive/cursoai_exercicios')"
      ],
      "execution_count": 1,
      "outputs": [
        {
          "output_type": "stream",
          "name": "stdout",
          "text": [
            "Cloning into 'curso_ai_python'...\n",
            "remote: Enumerating objects: 92, done.\u001b[K\n",
            "remote: Counting objects: 100% (59/59), done.\u001b[K\n",
            "remote: Compressing objects: 100% (58/58), done.\u001b[K\n",
            "remote: Total 92 (delta 29), reused 0 (delta 0), pack-reused 33 (from 1)\u001b[K\n",
            "Receiving objects: 100% (92/92), 28.45 KiB | 96.00 KiB/s, done.\n",
            "Resolving deltas: 100% (45/45), done.\n"
          ]
        }
      ]
    },
    {
      "cell_type": "markdown",
      "metadata": {
        "id": "Rou0RcBHC-Z3"
      },
      "source": [
        "Se o bloco acima foi executado corretamente, importe os símbolos com a linha seguinte:"
      ]
    },
    {
      "cell_type": "code",
      "metadata": {
        "id": "r9Q1G0SXu-Ir",
        "outputId": "dc484fce-dc3d-4ba3-ed83-568ef5831d6f",
        "colab": {
          "base_uri": "https://localhost:8080/"
        }
      },
      "source": [
        "import ceai_python_aula06"
      ],
      "execution_count": 2,
      "outputs": [
        {
          "output_type": "stream",
          "name": "stdout",
          "text": [
            "Ambiente inicializado com sucesso\n"
          ]
        }
      ]
    },
    {
      "cell_type": "markdown",
      "metadata": {
        "id": "c9yjgYOO8aAd"
      },
      "source": [
        "# 1. Importando módulos e símbolos\n",
        "\n",
        "## 1.1 Usando ```import``` para importar um módulo\n",
        "\n",
        "Um módulo é um bloco de código persistente que pode ser reutilizado.\n",
        "\n",
        "Um módulo é carregado com a diretriz ```import <nomedomodulo>```\n",
        "\n",
        "Por exemplo, o código a seguir carrega o módulo ```math``` (da biblioteca padrão do Python) e usa a função ```math.sqrt()``` para calcular a raiz quadrada de 2:"
      ]
    },
    {
      "cell_type": "code",
      "metadata": {
        "id": "EpuKrda8g68T",
        "outputId": "e74bcfce-8711-4246-dac9-7e37cf04d464",
        "colab": {
          "base_uri": "https://localhost:8080/"
        }
      },
      "source": [
        "import math\n",
        "print(math.sqrt(2))"
      ],
      "execution_count": 3,
      "outputs": [
        {
          "output_type": "stream",
          "name": "stdout",
          "text": [
            "1.4142135623730951\n"
          ]
        }
      ]
    },
    {
      "cell_type": "markdown",
      "metadata": {
        "id": "5B69lSlkhMbB"
      },
      "source": [
        "#### Exercício 1.1.1\n",
        "\n",
        "O diretório ```modulos_aula_06``` deve estar acessível para este notebook e no caminho atual de importação da linguagem python.\n",
        "Dentro deste notebook há um arquivo chamado test01.py que contém a declaração de um módulo.\n",
        "\n",
        "Importe este módulo no seu ambiente."
      ]
    },
    {
      "cell_type": "code",
      "metadata": {
        "id": "EYrZjy887a4F",
        "outputId": "6431b365-b7d5-4f5f-a5d3-ecd541a6e93a",
        "colab": {
          "base_uri": "https://localhost:8080/"
        }
      },
      "source": [
        "import sys\n",
        "sys.path.append('./modulos_aula_06')\n",
        "import test01"
      ],
      "execution_count": 4,
      "outputs": [
        {
          "output_type": "stream",
          "name": "stdout",
          "text": [
            "Módulo test01 carregado com sucesso!\n"
          ]
        }
      ]
    },
    {
      "cell_type": "markdown",
      "metadata": {
        "id": "h8tTUeY-e8KH"
      },
      "source": [
        "Teste sua resposta:"
      ]
    },
    {
      "cell_type": "code",
      "metadata": {
        "id": "bw6RJJZypTYj",
        "outputId": "dda98d39-d5d9-4fab-85fc-c9949154924d",
        "colab": {
          "base_uri": "https://localhost:8080/",
          "height": 40
        }
      },
      "source": [
        "ceai_python_aula06.valida_ex_01_01_01()"
      ],
      "execution_count": 5,
      "outputs": [
        {
          "output_type": "execute_result",
          "data": {
            "text/plain": [
              "<ceai_python_aula06.SolucaoResultado at 0x7ef2bd2e4c50>"
            ],
            "text/html": [
              "<div style=\"border-style:solid;border-color:green\">Exercício Correto!</div>"
            ]
          },
          "metadata": {},
          "execution_count": 5
        }
      ]
    },
    {
      "cell_type": "markdown",
      "metadata": {
        "id": "rAhsPEbwkCXL"
      },
      "source": [
        "#### Exercício 1.1.2\n",
        "\n",
        "O módulo test01 contém a função ```minha_funcao```.\n",
        "\n",
        "Chame esta função"
      ]
    },
    {
      "cell_type": "code",
      "metadata": {
        "id": "ik7MpY5lkPsj",
        "outputId": "882fd61d-4a86-4d9c-f311-f9bc2887f215",
        "colab": {
          "base_uri": "https://localhost:8080/"
        }
      },
      "source": [
        "import sys\n",
        "sys.path.append('./modulos_aula_06')\n",
        "import test01\n",
        "\n",
        "test01.minha_funcao()"
      ],
      "execution_count": 8,
      "outputs": [
        {
          "output_type": "stream",
          "name": "stdout",
          "text": [
            "minha_funcao() chamada\n"
          ]
        }
      ]
    },
    {
      "cell_type": "markdown",
      "metadata": {
        "id": "83LzaQQlkQnM"
      },
      "source": [
        "Teste sua resposta:"
      ]
    },
    {
      "cell_type": "code",
      "metadata": {
        "id": "OZuUCtXzkYES",
        "outputId": "c0d009dd-d857-4d8e-bb56-4a5c671b9790",
        "colab": {
          "base_uri": "https://localhost:8080/",
          "height": 40
        }
      },
      "source": [
        "ceai_python_aula06.valida_ex_01_01_02()"
      ],
      "execution_count": 9,
      "outputs": [
        {
          "output_type": "execute_result",
          "data": {
            "text/plain": [
              "<ceai_python_aula06.SolucaoResultado at 0x7ef2bd254410>"
            ],
            "text/html": [
              "<div style=\"border-style:solid;border-color:green\">Exercício Correto!</div>"
            ]
          },
          "metadata": {},
          "execution_count": 9
        }
      ]
    },
    {
      "cell_type": "markdown",
      "metadata": {
        "id": "kcTRfyKnq8Q9"
      },
      "source": [
        "## 2 Criando módulos\n",
        "\n",
        "Você pode criar um módulo diretamente no sistema de arquivos do colab.\n",
        "Este sistema no entanto é *efêmero* e as operações nele feitas não são mantidas em uma nova execução do notebook.\n",
        "\n",
        "Para evitar que você tenha que recomeçar do zero a cada vez que abrir este notebook, vamos usar um recurso do colab que mapeia pastas do google drive do usuário.\n",
        "\n",
        "Mapeie o seu google drive com o seguinte comando\n",
        "(note que o colab solicitará autorização para seu google drive):"
      ]
    },
    {
      "cell_type": "code",
      "source": [
        "from google.colab import drive\n",
        "drive.mount('/content/gdrive', force_remount=True)"
      ],
      "metadata": {
        "id": "pkljzFlT2seR",
        "outputId": "02f325da-919c-44dd-9897-21b13fe1ed2a",
        "colab": {
          "base_uri": "https://localhost:8080/"
        }
      },
      "execution_count": 10,
      "outputs": [
        {
          "output_type": "stream",
          "name": "stdout",
          "text": [
            "Mounted at /content/gdrive\n"
          ]
        }
      ]
    },
    {
      "cell_type": "markdown",
      "source": [
        "Agora existe uma pasta especial *neste* notebook, a pasta em ```/content/gdrive/MyDrive```.\n",
        "Esta pasta é uma réplica do google drive do usuário e operações feitas nela serão gravadas no google drive.\n",
        "\n",
        "### Execício 2.1\n",
        "\n",
        "Crie uma pasta dentro de ```/content/gdrive/MyDrive``` chamada ```cursoai_exercicios```.\n",
        "Note que esta pasta será criada também no seu google drive.\n",
        "Use a aba Arquivos (ou *Files*) na área à esquerda.\n",
        "Clique com o botão direito em ```MyDrive``` e escolha nova pasta."
      ],
      "metadata": {
        "id": "o_JgqVIA2h-P"
      }
    },
    {
      "cell_type": "markdown",
      "metadata": {
        "id": "CX8A1G1ys2cy"
      },
      "source": [
        "![image.png](data:image/png;base64,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)"
      ]
    },
    {
      "cell_type": "markdown",
      "metadata": {
        "id": "lZPa3zcWtLUq"
      },
      "source": [
        "Teste a criação do diretório:"
      ]
    },
    {
      "cell_type": "code",
      "metadata": {
        "id": "KwLv6IAYtSfW",
        "outputId": "cc0fdb9b-317c-433d-9fc8-8793cffc2fc4",
        "colab": {
          "base_uri": "https://localhost:8080/",
          "height": 40
        }
      },
      "source": [
        "ceai_python_aula06.valida_ex_01_02_01(None)"
      ],
      "execution_count": 12,
      "outputs": [
        {
          "output_type": "execute_result",
          "data": {
            "text/plain": [
              "<ceai_python_aula06.SolucaoResultado at 0x7ef2bd15ce50>"
            ],
            "text/html": [
              "<div style=\"border-style:solid;border-color:green\">Exercício Correto!</div>"
            ]
          },
          "metadata": {},
          "execution_count": 12
        }
      ]
    },
    {
      "cell_type": "markdown",
      "metadata": {
        "id": "eg8IhF0CupRb"
      },
      "source": [
        "### Exercício 2.2\n",
        "\n",
        "Crie dentro da pasta ```cursoai_exercicios``` um arquivo chamado ```meu_modulo.py```.\n",
        "Este arquivo deve incluir a definição da função ```soma``` que retorna a soma de seus dois argumentos.\n",
        "\n",
        "Durante a preparação do ambiente, este notebook já adicionou ao caminho atual de módulos a pasta ```cursoai_exercicios```. Se o arquivo foi criado corretamente, o código abaixo deve funcionar normalmente:"
      ]
    },
    {
      "cell_type": "code",
      "metadata": {
        "id": "eYCKc81QwC20",
        "outputId": "aedb66ec-1362-4cd4-9563-4614ac2119e7",
        "colab": {
          "base_uri": "https://localhost:8080/"
        }
      },
      "source": [
        "import meu_modulo\n",
        "importlib.reload(meu_modulo)\n",
        "print(\"2+2=\" + str(meu_modulo.soma(2,2)))"
      ],
      "execution_count": 15,
      "outputs": [
        {
          "output_type": "stream",
          "name": "stdout",
          "text": [
            "2+2=4\n"
          ]
        }
      ]
    },
    {
      "cell_type": "markdown",
      "source": [
        "## 3. Pacotes\n",
        "\n",
        "Um pacote é uma coleção de módulos organizados em diretórios.\n",
        "\n",
        "Exemplo:\n",
        "```\n",
        "pacote/\n",
        "    __init__.py\n",
        "    modulo1.py\n",
        "    modulo2.py   \n",
        "```\n",
        "\n",
        "Este pacote contém os módulos ```modulo1.py```  e ```modulo2.py```.\n",
        "Supondo que ele esteja no caminho de módulos de um programa, é possível importar os módulos com os comandos: ```import pacote.modulo1``` e ```import pacote.modulo2```\n",
        "\n",
        "O conteúdo destes módulos é acessível pelos nomes ```pacote.modulo1``` e ```pacote.modulo2```.\n",
        "Alternativamente, é possível eliminar o ```pacote``` do nome do módulo importando-o com o comando: ```from pacote import modulo1```.\n",
        "Neste caso o seu conteúdo torna-se acessível diretamente com o nome ```modulo1```.\n"
      ],
      "metadata": {
        "id": "9kVrIfcE2C6c"
      }
    },
    {
      "cell_type": "markdown",
      "source": [
        "### Exercício 3.1\n",
        "\n",
        "\n",
        "O diretório ```modulos_aula_06``` contém um pacote chamado ```pacote_aula06```.\n",
        "Dentro dele há um módulo chamado ```teste```.\n",
        "\n",
        "Importe este módulo no seu ambiente (qualquer uma das sintaxes descrita acima é aceitável)."
      ],
      "metadata": {
        "id": "XBlb5_YZ8BKK"
      }
    },
    {
      "cell_type": "code",
      "source": [
        "import sys\n",
        "sys.path.append('./modulos_aula_06')\n",
        "from pacote_aula06 import teste"
      ],
      "metadata": {
        "id": "c-ZSpYDr8V8K",
        "outputId": "13191751-7c17-4c9e-ce24-62a4f78c2d35",
        "colab": {
          "base_uri": "https://localhost:8080/"
        }
      },
      "execution_count": 17,
      "outputs": [
        {
          "output_type": "stream",
          "name": "stdout",
          "text": [
            "Módulo teste carregado com sucesso!\n"
          ]
        }
      ]
    },
    {
      "cell_type": "markdown",
      "source": [
        "Teste a sua resposta:"
      ],
      "metadata": {
        "id": "a8unU24d8XNK"
      }
    },
    {
      "cell_type": "code",
      "source": [
        "ceai_python_aula06.valida_ex_03_01_01()"
      ],
      "metadata": {
        "id": "2J7TbGlK8dQX",
        "outputId": "83408ac4-ed40-4798-d9d1-ef6f883d0240",
        "colab": {
          "base_uri": "https://localhost:8080/",
          "height": 40
        }
      },
      "execution_count": 18,
      "outputs": [
        {
          "output_type": "execute_result",
          "data": {
            "text/plain": [
              "<ceai_python_aula06.SolucaoResultado at 0x7ef2a072a590>"
            ],
            "text/html": [
              "<div style=\"border-style:solid;border-color:green\">Exercício Correto!</div>"
            ]
          },
          "metadata": {},
          "execution_count": 18
        }
      ]
    },
    {
      "cell_type": "markdown",
      "source": [
        "O módulo ```teste``` do pacote ```pacote_aula06``` contém a função ```outra_funcao()```.\n",
        "Execute esta função"
      ],
      "metadata": {
        "id": "cJvdKqrd-G6C"
      }
    },
    {
      "cell_type": "code",
      "source": [
        "import pacote_aula06.teste\n",
        "pacote_aula06.teste.outra_funcao()"
      ],
      "metadata": {
        "id": "K8EMdSQ4ItGX",
        "outputId": "015b04c7-4772-4e5b-be86-9200b9fee5f8",
        "colab": {
          "base_uri": "https://localhost:8080/"
        }
      },
      "execution_count": 19,
      "outputs": [
        {
          "output_type": "stream",
          "name": "stdout",
          "text": [
            "outra_funcao() chamada\n"
          ]
        }
      ]
    },
    {
      "cell_type": "markdown",
      "source": [
        "Teste a sua resposta:"
      ],
      "metadata": {
        "id": "6JbmWlYtJiox"
      }
    },
    {
      "cell_type": "code",
      "source": [
        "ceai_python_aula06.valida_ex_03_01_02()"
      ],
      "metadata": {
        "id": "GwGx92lzJlGl",
        "outputId": "a4486c1a-c611-4286-9c61-9647a8ebc337",
        "colab": {
          "base_uri": "https://localhost:8080/",
          "height": 40
        }
      },
      "execution_count": 20,
      "outputs": [
        {
          "output_type": "execute_result",
          "data": {
            "text/plain": [
              "<ceai_python_aula06.SolucaoResultado at 0x7ef2bc8e3e50>"
            ],
            "text/html": [
              "<div style=\"border-style:solid;border-color:green\">Exercício Correto!</div>"
            ]
          },
          "metadata": {},
          "execution_count": 20
        }
      ]
    },
    {
      "cell_type": "markdown",
      "source": [
        "## 4. Criando Pacotes:\n",
        "\n",
        "Como descrito acima, um pacote é meramente um diretório contendo módulos Python.\n"
      ],
      "metadata": {
        "id": "V3k44NpKJuUl"
      }
    },
    {
      "cell_type": "markdown",
      "source": [
        "### Exercício 4.1\n",
        "\n",
        "Crie dentro da pasta ```cursoai_exercicios``` o diretório chamado ```pacote01```.\n",
        "Dentro deste pacote crie um arquivo chamado ```modulo.py```.\n",
        "\n",
        "Como no exercício 2.2, este arquivo deve incluir a definição da função ```soma``` que retorna a soma de seus dois argumentos.\n",
        "\n",
        "Se o arquivo foi criado corretamente, o código abaixo deve funcionar normalmente:"
      ],
      "metadata": {
        "id": "elAsbL0iLGM6"
      }
    },
    {
      "cell_type": "code",
      "source": [
        "import pacote01.modulo\n",
        "importlib.reload(pacote01.modulo)\n",
        "print(\"2+2=\" + str(pacote01.modulo.soma(2,2)))"
      ],
      "metadata": {
        "id": "i02zfYpILF2s"
      },
      "execution_count": null,
      "outputs": []
    },
    {
      "cell_type": "markdown",
      "source": [
        "### 4.1  O Arquivo ```__init__.py```:\n",
        "\n",
        "\n",
        "O pacote pode conter o arquivo ```__init__.py```.\n",
        "Símbolos definidos neste arquivo são incorporados ao *namespace* do pacote.\n",
        "Por exemplo, considere o exemplo dos seguintes arquivos:\n",
        "\n",
        "```\n",
        "pacote/\n",
        "    __init__.py\n",
        "```\n",
        "\n",
        "Suponha que o arquivo ```__init__.py``` contém o contéudo:\n",
        "\n",
        "```\n",
        "a = \"variável do pacote\n",
        "```\n",
        "\n",
        "Neste caso, o comando ```import pacote``` vai criar o símbolo ```pacote.a```."
      ],
      "metadata": {
        "id": "kqk6BTruLB7j"
      }
    },
    {
      "cell_type": "markdown",
      "source": [
        "### Exercício 4.1\n",
        "\n",
        "Crie dentro da pasta ```cursoai_exercicios``` o diretório chamado ```pacote02```.\n",
        "Dentro deste pacote crie um arquivo chamado ```__init__.py```.\n",
        "\n",
        "Como no exercício anterior, este arquivo deve incluir a definição da função ```soma``` que retorna a soma de seus dois argumentos.\n",
        "\n",
        "Se o arquivo foi criado corretamente, o código abaixo deve funcionar normalmente:"
      ],
      "metadata": {
        "id": "B_EENnM9NfRF"
      }
    },
    {
      "cell_type": "code",
      "source": [
        "import pacote02\n",
        "importlib.reload(pacote02)\n",
        "print(\"2+2=\" + str(pacote02.soma(2,2)))"
      ],
      "metadata": {
        "id": "-qJ9l30sNuZD",
        "outputId": "68624a28-b7a7-4fd4-ac46-78481debf2de",
        "colab": {
          "base_uri": "https://localhost:8080/"
        }
      },
      "execution_count": 26,
      "outputs": [
        {
          "output_type": "stream",
          "name": "stdout",
          "text": [
            "2+2=4\n"
          ]
        }
      ]
    },
    {
      "cell_type": "markdown",
      "source": [
        "## 4.3 Referencias entre módulos de um pacote\n",
        "\n",
        "Um módulo dentro de um pacote pode referenciar símbolos de outro módulo do mesmo pacote.\n",
        "\n",
        "Por exemplo, considere o pacote:\n",
        "\n",
        "```\n",
        "pacote/\n",
        "    modulo1.py\n",
        "    modulo2.py   \n",
        "```\n",
        "\n",
        "Se dentro do pacote ```modulo1.py``` há o comando ```from pacote import modulo2``` então o conteúdo do ```modulo2.py``` é importado dentro do módulo ```modulo1``` dentro do *namespace* ```modulo2```.\n",
        "\n"
      ],
      "metadata": {
        "id": "ByFRgglVOrNR"
      }
    },
    {
      "cell_type": "markdown",
      "source": [
        "### Exercício 4.2\n",
        "\n",
        "Crie dentro da pasta ```cursoai_exercicios``` o diretório chamado ```pacote03```.\n",
        "Dentro deste pacote crie dois arquivos, um chamado ```modulo01.py``` e outro chamado ```modulo02.py```.\n",
        "\n",
        "Como no exercício anterior, defina no arquivo ```modulo02.py```a definição da função ```soma``` que retorna a soma de seus dois argumentos.\n",
        "\n",
        "Dentro do arquivo ```modulo01.py```, importe o conteúdo do módulo ```modulo02```.\n",
        "\n",
        "Se os arquivos foram criados corretamente, o código abaixo deve funcionar normalmente:"
      ],
      "metadata": {
        "id": "BJtbyijHPdDx"
      }
    },
    {
      "cell_type": "code",
      "source": [
        "import pacote03.modulo01\n",
        "importlib.reload(pacote03.modulo01)\n",
        "print(\"2+2=\" + str(pacote03.modulo01.modulo02.soma(2,2)))"
      ],
      "metadata": {
        "id": "DQSzpNiLOuE8"
      },
      "execution_count": null,
      "outputs": []
    },
    {
      "cell_type": "markdown",
      "source": [
        "**Atenção**:\n",
        "Submeta o seu diretório ```cursoai_exercicios```  (compactado) junto com este notebook para a correção!"
      ],
      "metadata": {
        "id": "mc82M_kG8P6W"
      }
    }
  ]
}